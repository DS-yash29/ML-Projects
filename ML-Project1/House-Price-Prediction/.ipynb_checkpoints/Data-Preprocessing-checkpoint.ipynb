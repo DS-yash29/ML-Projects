{
 "cells": [
  {
   "cell_type": "code",
   "execution_count": 1,
   "id": "e677cb87",
   "metadata": {},
   "outputs": [],
   "source": [
    "import pandas as pd\n",
    "import numpy as np\n",
    "import matplotlib.pyplot as plt"
   ]
  },
  {
   "cell_type": "code",
   "execution_count": 2,
   "id": "64df5c94",
   "metadata": {},
   "outputs": [],
   "source": [
    "df = pd.read_csv('RealStateData.csv')"
   ]
  },
  {
   "cell_type": "code",
   "execution_count": 3,
   "id": "2a76258f",
   "metadata": {},
   "outputs": [
    {
     "data": {
      "text/html": [
       "<div>\n",
       "<style scoped>\n",
       "    .dataframe tbody tr th:only-of-type {\n",
       "        vertical-align: middle;\n",
       "    }\n",
       "\n",
       "    .dataframe tbody tr th {\n",
       "        vertical-align: top;\n",
       "    }\n",
       "\n",
       "    .dataframe thead th {\n",
       "        text-align: right;\n",
       "    }\n",
       "</style>\n",
       "<table border=\"1\" class=\"dataframe\">\n",
       "  <thead>\n",
       "    <tr style=\"text-align: right;\">\n",
       "      <th></th>\n",
       "      <th>area_type</th>\n",
       "      <th>availability</th>\n",
       "      <th>location</th>\n",
       "      <th>size</th>\n",
       "      <th>society</th>\n",
       "      <th>total_sqft</th>\n",
       "      <th>bath</th>\n",
       "      <th>balcony</th>\n",
       "      <th>price</th>\n",
       "    </tr>\n",
       "  </thead>\n",
       "  <tbody>\n",
       "    <tr>\n",
       "      <th>10739</th>\n",
       "      <td>Built-up  Area</td>\n",
       "      <td>18-Dec</td>\n",
       "      <td>Whitefield</td>\n",
       "      <td>2 BHK</td>\n",
       "      <td>NaN</td>\n",
       "      <td>1059</td>\n",
       "      <td>2.0</td>\n",
       "      <td>1.0</td>\n",
       "      <td>57.0</td>\n",
       "    </tr>\n",
       "    <tr>\n",
       "      <th>12115</th>\n",
       "      <td>Built-up  Area</td>\n",
       "      <td>Ready To Move</td>\n",
       "      <td>Kanakpura Road</td>\n",
       "      <td>3 BHK</td>\n",
       "      <td>PuandHi</td>\n",
       "      <td>1843</td>\n",
       "      <td>3.0</td>\n",
       "      <td>2.0</td>\n",
       "      <td>90.0</td>\n",
       "    </tr>\n",
       "    <tr>\n",
       "      <th>5420</th>\n",
       "      <td>Super built-up  Area</td>\n",
       "      <td>Ready To Move</td>\n",
       "      <td>Byagadadhenahalli</td>\n",
       "      <td>2 BHK</td>\n",
       "      <td>VBavaai</td>\n",
       "      <td>620</td>\n",
       "      <td>2.0</td>\n",
       "      <td>1.0</td>\n",
       "      <td>23.0</td>\n",
       "    </tr>\n",
       "    <tr>\n",
       "      <th>8829</th>\n",
       "      <td>Super built-up  Area</td>\n",
       "      <td>18-May</td>\n",
       "      <td>Sarjapur  Road</td>\n",
       "      <td>3 BHK</td>\n",
       "      <td>AsastDe</td>\n",
       "      <td>1157</td>\n",
       "      <td>2.0</td>\n",
       "      <td>1.0</td>\n",
       "      <td>74.0</td>\n",
       "    </tr>\n",
       "    <tr>\n",
       "      <th>9256</th>\n",
       "      <td>Super built-up  Area</td>\n",
       "      <td>Ready To Move</td>\n",
       "      <td>Marathahalli</td>\n",
       "      <td>3 BHK</td>\n",
       "      <td>RookaJh</td>\n",
       "      <td>1720</td>\n",
       "      <td>3.0</td>\n",
       "      <td>NaN</td>\n",
       "      <td>175.0</td>\n",
       "    </tr>\n",
       "  </tbody>\n",
       "</table>\n",
       "</div>"
      ],
      "text/plain": [
       "                  area_type   availability           location   size  society  \\\n",
       "10739        Built-up  Area         18-Dec         Whitefield  2 BHK      NaN   \n",
       "12115        Built-up  Area  Ready To Move     Kanakpura Road  3 BHK  PuandHi   \n",
       "5420   Super built-up  Area  Ready To Move  Byagadadhenahalli  2 BHK  VBavaai   \n",
       "8829   Super built-up  Area         18-May     Sarjapur  Road  3 BHK  AsastDe   \n",
       "9256   Super built-up  Area  Ready To Move       Marathahalli  3 BHK  RookaJh   \n",
       "\n",
       "      total_sqft  bath  balcony  price  \n",
       "10739       1059   2.0      1.0   57.0  \n",
       "12115       1843   3.0      2.0   90.0  \n",
       "5420         620   2.0      1.0   23.0  \n",
       "8829        1157   2.0      1.0   74.0  \n",
       "9256        1720   3.0      NaN  175.0  "
      ]
     },
     "execution_count": 3,
     "metadata": {},
     "output_type": "execute_result"
    }
   ],
   "source": [
    "df.sample(5)"
   ]
  },
  {
   "cell_type": "code",
   "execution_count": 5,
   "id": "416d87ca",
   "metadata": {},
   "outputs": [
    {
     "name": "stdout",
     "output_type": "stream",
     "text": [
      "<class 'pandas.core.frame.DataFrame'>\n",
      "RangeIndex: 13320 entries, 0 to 13319\n",
      "Data columns (total 9 columns):\n",
      " #   Column        Non-Null Count  Dtype  \n",
      "---  ------        --------------  -----  \n",
      " 0   area_type     13320 non-null  object \n",
      " 1   availability  13320 non-null  object \n",
      " 2   location      13319 non-null  object \n",
      " 3   size          13304 non-null  object \n",
      " 4   society       7818 non-null   object \n",
      " 5   total_sqft    13320 non-null  object \n",
      " 6   bath          13247 non-null  float64\n",
      " 7   balcony       12711 non-null  float64\n",
      " 8   price         13320 non-null  float64\n",
      "dtypes: float64(3), object(6)\n",
      "memory usage: 936.7+ KB\n"
     ]
    }
   ],
   "source": [
    "df.info()"
   ]
  },
  {
   "cell_type": "markdown",
   "id": "ef8bdf13",
   "metadata": {},
   "source": [
    "### Step 1 : Removal of Unwanted columns\n",
    "\n",
    "1. Society Columns has most of the values missing -> Remove\n",
    "2. For Prediction , we are not concerned with availability or area type or how many balcony it has . Remove"
   ]
  },
  {
   "cell_type": "code",
   "execution_count": 6,
   "id": "06f22b86",
   "metadata": {},
   "outputs": [
    {
     "data": {
      "text/html": [
       "<div>\n",
       "<style scoped>\n",
       "    .dataframe tbody tr th:only-of-type {\n",
       "        vertical-align: middle;\n",
       "    }\n",
       "\n",
       "    .dataframe tbody tr th {\n",
       "        vertical-align: top;\n",
       "    }\n",
       "\n",
       "    .dataframe thead th {\n",
       "        text-align: right;\n",
       "    }\n",
       "</style>\n",
       "<table border=\"1\" class=\"dataframe\">\n",
       "  <thead>\n",
       "    <tr style=\"text-align: right;\">\n",
       "      <th></th>\n",
       "      <th>location</th>\n",
       "      <th>size</th>\n",
       "      <th>total_sqft</th>\n",
       "      <th>bath</th>\n",
       "      <th>price</th>\n",
       "    </tr>\n",
       "  </thead>\n",
       "  <tbody>\n",
       "    <tr>\n",
       "      <th>0</th>\n",
       "      <td>Electronic City Phase II</td>\n",
       "      <td>2 BHK</td>\n",
       "      <td>1056</td>\n",
       "      <td>2.0</td>\n",
       "      <td>39.07</td>\n",
       "    </tr>\n",
       "    <tr>\n",
       "      <th>1</th>\n",
       "      <td>Chikka Tirupathi</td>\n",
       "      <td>4 Bedroom</td>\n",
       "      <td>2600</td>\n",
       "      <td>5.0</td>\n",
       "      <td>120.00</td>\n",
       "    </tr>\n",
       "    <tr>\n",
       "      <th>2</th>\n",
       "      <td>Uttarahalli</td>\n",
       "      <td>3 BHK</td>\n",
       "      <td>1440</td>\n",
       "      <td>2.0</td>\n",
       "      <td>62.00</td>\n",
       "    </tr>\n",
       "    <tr>\n",
       "      <th>3</th>\n",
       "      <td>Lingadheeranahalli</td>\n",
       "      <td>3 BHK</td>\n",
       "      <td>1521</td>\n",
       "      <td>3.0</td>\n",
       "      <td>95.00</td>\n",
       "    </tr>\n",
       "    <tr>\n",
       "      <th>4</th>\n",
       "      <td>Kothanur</td>\n",
       "      <td>2 BHK</td>\n",
       "      <td>1200</td>\n",
       "      <td>2.0</td>\n",
       "      <td>51.00</td>\n",
       "    </tr>\n",
       "    <tr>\n",
       "      <th>...</th>\n",
       "      <td>...</td>\n",
       "      <td>...</td>\n",
       "      <td>...</td>\n",
       "      <td>...</td>\n",
       "      <td>...</td>\n",
       "    </tr>\n",
       "    <tr>\n",
       "      <th>13315</th>\n",
       "      <td>Whitefield</td>\n",
       "      <td>5 Bedroom</td>\n",
       "      <td>3453</td>\n",
       "      <td>4.0</td>\n",
       "      <td>231.00</td>\n",
       "    </tr>\n",
       "    <tr>\n",
       "      <th>13316</th>\n",
       "      <td>Richards Town</td>\n",
       "      <td>4 BHK</td>\n",
       "      <td>3600</td>\n",
       "      <td>5.0</td>\n",
       "      <td>400.00</td>\n",
       "    </tr>\n",
       "    <tr>\n",
       "      <th>13317</th>\n",
       "      <td>Raja Rajeshwari Nagar</td>\n",
       "      <td>2 BHK</td>\n",
       "      <td>1141</td>\n",
       "      <td>2.0</td>\n",
       "      <td>60.00</td>\n",
       "    </tr>\n",
       "    <tr>\n",
       "      <th>13318</th>\n",
       "      <td>Padmanabhanagar</td>\n",
       "      <td>4 BHK</td>\n",
       "      <td>4689</td>\n",
       "      <td>4.0</td>\n",
       "      <td>488.00</td>\n",
       "    </tr>\n",
       "    <tr>\n",
       "      <th>13319</th>\n",
       "      <td>Doddathoguru</td>\n",
       "      <td>1 BHK</td>\n",
       "      <td>550</td>\n",
       "      <td>1.0</td>\n",
       "      <td>17.00</td>\n",
       "    </tr>\n",
       "  </tbody>\n",
       "</table>\n",
       "<p>13320 rows × 5 columns</p>\n",
       "</div>"
      ],
      "text/plain": [
       "                       location       size total_sqft  bath   price\n",
       "0      Electronic City Phase II      2 BHK       1056   2.0   39.07\n",
       "1              Chikka Tirupathi  4 Bedroom       2600   5.0  120.00\n",
       "2                   Uttarahalli      3 BHK       1440   2.0   62.00\n",
       "3            Lingadheeranahalli      3 BHK       1521   3.0   95.00\n",
       "4                      Kothanur      2 BHK       1200   2.0   51.00\n",
       "...                         ...        ...        ...   ...     ...\n",
       "13315                Whitefield  5 Bedroom       3453   4.0  231.00\n",
       "13316             Richards Town      4 BHK       3600   5.0  400.00\n",
       "13317     Raja Rajeshwari Nagar      2 BHK       1141   2.0   60.00\n",
       "13318           Padmanabhanagar      4 BHK       4689   4.0  488.00\n",
       "13319              Doddathoguru      1 BHK        550   1.0   17.00\n",
       "\n",
       "[13320 rows x 5 columns]"
      ]
     },
     "execution_count": 6,
     "metadata": {},
     "output_type": "execute_result"
    }
   ],
   "source": [
    "df.drop(['area_type','availability','society','balcony'],axis=1)"
   ]
  },
  {
   "cell_type": "code",
   "execution_count": 7,
   "id": "031b393e",
   "metadata": {},
   "outputs": [],
   "source": [
    "df = df.drop(['area_type','availability','society','balcony'],axis=1)"
   ]
  },
  {
   "cell_type": "code",
   "execution_count": 8,
   "id": "305e56ba",
   "metadata": {},
   "outputs": [
    {
     "data": {
      "text/html": [
       "<div>\n",
       "<style scoped>\n",
       "    .dataframe tbody tr th:only-of-type {\n",
       "        vertical-align: middle;\n",
       "    }\n",
       "\n",
       "    .dataframe tbody tr th {\n",
       "        vertical-align: top;\n",
       "    }\n",
       "\n",
       "    .dataframe thead th {\n",
       "        text-align: right;\n",
       "    }\n",
       "</style>\n",
       "<table border=\"1\" class=\"dataframe\">\n",
       "  <thead>\n",
       "    <tr style=\"text-align: right;\">\n",
       "      <th></th>\n",
       "      <th>location</th>\n",
       "      <th>size</th>\n",
       "      <th>total_sqft</th>\n",
       "      <th>bath</th>\n",
       "      <th>price</th>\n",
       "    </tr>\n",
       "  </thead>\n",
       "  <tbody>\n",
       "    <tr>\n",
       "      <th>10151</th>\n",
       "      <td>Banashankari Stage VI</td>\n",
       "      <td>4 Bedroom</td>\n",
       "      <td>600</td>\n",
       "      <td>3.0</td>\n",
       "      <td>97.0</td>\n",
       "    </tr>\n",
       "    <tr>\n",
       "      <th>11196</th>\n",
       "      <td>Bileshivale</td>\n",
       "      <td>6 Bedroom</td>\n",
       "      <td>2400</td>\n",
       "      <td>7.0</td>\n",
       "      <td>107.0</td>\n",
       "    </tr>\n",
       "    <tr>\n",
       "      <th>8930</th>\n",
       "      <td>Palace Guttahalli</td>\n",
       "      <td>6 Bedroom</td>\n",
       "      <td>1680</td>\n",
       "      <td>4.0</td>\n",
       "      <td>250.0</td>\n",
       "    </tr>\n",
       "    <tr>\n",
       "      <th>8747</th>\n",
       "      <td>Sarjapur</td>\n",
       "      <td>4 Bedroom</td>\n",
       "      <td>3300</td>\n",
       "      <td>4.0</td>\n",
       "      <td>430.0</td>\n",
       "    </tr>\n",
       "    <tr>\n",
       "      <th>2368</th>\n",
       "      <td>Bileshivale</td>\n",
       "      <td>5 Bedroom</td>\n",
       "      <td>6040</td>\n",
       "      <td>4.0</td>\n",
       "      <td>170.0</td>\n",
       "    </tr>\n",
       "  </tbody>\n",
       "</table>\n",
       "</div>"
      ],
      "text/plain": [
       "                    location       size total_sqft  bath  price\n",
       "10151  Banashankari Stage VI  4 Bedroom        600   3.0   97.0\n",
       "11196            Bileshivale  6 Bedroom       2400   7.0  107.0\n",
       "8930       Palace Guttahalli  6 Bedroom       1680   4.0  250.0\n",
       "8747                Sarjapur  4 Bedroom       3300   4.0  430.0\n",
       "2368             Bileshivale  5 Bedroom       6040   4.0  170.0"
      ]
     },
     "execution_count": 8,
     "metadata": {},
     "output_type": "execute_result"
    }
   ],
   "source": [
    "df.sample(5)"
   ]
  },
  {
   "cell_type": "code",
   "execution_count": 9,
   "id": "ff1e52bf",
   "metadata": {},
   "outputs": [
    {
     "name": "stdout",
     "output_type": "stream",
     "text": [
      "<class 'pandas.core.frame.DataFrame'>\n",
      "RangeIndex: 13320 entries, 0 to 13319\n",
      "Data columns (total 5 columns):\n",
      " #   Column      Non-Null Count  Dtype  \n",
      "---  ------      --------------  -----  \n",
      " 0   location    13319 non-null  object \n",
      " 1   size        13304 non-null  object \n",
      " 2   total_sqft  13320 non-null  object \n",
      " 3   bath        13247 non-null  float64\n",
      " 4   price       13320 non-null  float64\n",
      "dtypes: float64(2), object(3)\n",
      "memory usage: 520.4+ KB\n"
     ]
    }
   ],
   "source": [
    "df.info()"
   ]
  },
  {
   "cell_type": "code",
   "execution_count": 12,
   "id": "2b7a7037",
   "metadata": {},
   "outputs": [
    {
     "data": {
      "text/html": [
       "<div>\n",
       "<style scoped>\n",
       "    .dataframe tbody tr th:only-of-type {\n",
       "        vertical-align: middle;\n",
       "    }\n",
       "\n",
       "    .dataframe tbody tr th {\n",
       "        vertical-align: top;\n",
       "    }\n",
       "\n",
       "    .dataframe thead th {\n",
       "        text-align: right;\n",
       "    }\n",
       "</style>\n",
       "<table border=\"1\" class=\"dataframe\">\n",
       "  <thead>\n",
       "    <tr style=\"text-align: right;\">\n",
       "      <th></th>\n",
       "      <th>bath</th>\n",
       "      <th>price</th>\n",
       "    </tr>\n",
       "  </thead>\n",
       "  <tbody>\n",
       "    <tr>\n",
       "      <th>count</th>\n",
       "      <td>13247.000000</td>\n",
       "      <td>13320.000000</td>\n",
       "    </tr>\n",
       "    <tr>\n",
       "      <th>mean</th>\n",
       "      <td>2.692610</td>\n",
       "      <td>112.565627</td>\n",
       "    </tr>\n",
       "    <tr>\n",
       "      <th>std</th>\n",
       "      <td>1.341458</td>\n",
       "      <td>148.971674</td>\n",
       "    </tr>\n",
       "    <tr>\n",
       "      <th>min</th>\n",
       "      <td>1.000000</td>\n",
       "      <td>8.000000</td>\n",
       "    </tr>\n",
       "    <tr>\n",
       "      <th>25%</th>\n",
       "      <td>2.000000</td>\n",
       "      <td>50.000000</td>\n",
       "    </tr>\n",
       "    <tr>\n",
       "      <th>50%</th>\n",
       "      <td>2.000000</td>\n",
       "      <td>72.000000</td>\n",
       "    </tr>\n",
       "    <tr>\n",
       "      <th>75%</th>\n",
       "      <td>3.000000</td>\n",
       "      <td>120.000000</td>\n",
       "    </tr>\n",
       "    <tr>\n",
       "      <th>max</th>\n",
       "      <td>40.000000</td>\n",
       "      <td>3600.000000</td>\n",
       "    </tr>\n",
       "  </tbody>\n",
       "</table>\n",
       "</div>"
      ],
      "text/plain": [
       "               bath         price\n",
       "count  13247.000000  13320.000000\n",
       "mean       2.692610    112.565627\n",
       "std        1.341458    148.971674\n",
       "min        1.000000      8.000000\n",
       "25%        2.000000     50.000000\n",
       "50%        2.000000     72.000000\n",
       "75%        3.000000    120.000000\n",
       "max       40.000000   3600.000000"
      ]
     },
     "execution_count": 12,
     "metadata": {},
     "output_type": "execute_result"
    }
   ],
   "source": [
    "df.describe()"
   ]
  },
  {
   "cell_type": "markdown",
   "id": "f439b99b",
   "metadata": {},
   "source": [
    "### Step 2 : Univariate Analysis on each Independent Variable"
   ]
  },
  {
   "cell_type": "code",
   "execution_count": 13,
   "id": "83cf7643",
   "metadata": {},
   "outputs": [
    {
     "data": {
      "text/plain": [
       "location\n",
       "Whitefield                        540\n",
       "Sarjapur  Road                    399\n",
       "Electronic City                   302\n",
       "Kanakpura Road                    273\n",
       "Thanisandra                       234\n",
       "                                 ... \n",
       "Bapuji Layout                       1\n",
       "1st Stage Radha Krishna Layout      1\n",
       "BEML Layout 5th stage               1\n",
       "singapura paradise                  1\n",
       "Abshot Layout                       1\n",
       "Name: count, Length: 1305, dtype: int64"
      ]
     },
     "execution_count": 13,
     "metadata": {},
     "output_type": "execute_result"
    }
   ],
   "source": [
    "df['location'].value_counts()"
   ]
  },
  {
   "cell_type": "code",
   "execution_count": 14,
   "id": "252d1de6",
   "metadata": {},
   "outputs": [],
   "source": [
    "## Location is a categorical attribute and must not posses so many distinct values\n",
    "## The approach here is to replace all the values with lesser frequency into 1 single category"
   ]
  },
  {
   "cell_type": "code",
   "execution_count": 15,
   "id": "82010ebe",
   "metadata": {},
   "outputs": [
    {
     "data": {
      "text/plain": [
       "10.206130268199233"
      ]
     },
     "execution_count": 15,
     "metadata": {},
     "output_type": "execute_result"
    }
   ],
   "source": [
    "df['location'].value_counts().mean()"
   ]
  },
  {
   "cell_type": "code",
   "execution_count": 16,
   "id": "718d2b3c",
   "metadata": {},
   "outputs": [
    {
     "data": {
      "text/plain": [
       "1305"
      ]
     },
     "execution_count": 16,
     "metadata": {},
     "output_type": "execute_result"
    }
   ],
   "source": [
    "df['location'].value_counts().count()"
   ]
  },
  {
   "cell_type": "code",
   "execution_count": 17,
   "id": "bf90da6f",
   "metadata": {},
   "outputs": [],
   "source": [
    "loc = df['location'].value_counts()[df['location'].value_counts() <= 10].index"
   ]
  },
  {
   "cell_type": "code",
   "execution_count": 18,
   "id": "6f533688",
   "metadata": {},
   "outputs": [],
   "source": [
    "loc_idx = df[df['location'].isin(loc)].index.to_list()"
   ]
  },
  {
   "cell_type": "code",
   "execution_count": 19,
   "id": "7f16834f",
   "metadata": {},
   "outputs": [],
   "source": [
    "df.loc[loc_idx,'location'] = 'Others'"
   ]
  },
  {
   "cell_type": "code",
   "execution_count": 20,
   "id": "5e33ade1",
   "metadata": {},
   "outputs": [
    {
     "data": {
      "text/html": [
       "<div>\n",
       "<style scoped>\n",
       "    .dataframe tbody tr th:only-of-type {\n",
       "        vertical-align: middle;\n",
       "    }\n",
       "\n",
       "    .dataframe tbody tr th {\n",
       "        vertical-align: top;\n",
       "    }\n",
       "\n",
       "    .dataframe thead th {\n",
       "        text-align: right;\n",
       "    }\n",
       "</style>\n",
       "<table border=\"1\" class=\"dataframe\">\n",
       "  <thead>\n",
       "    <tr style=\"text-align: right;\">\n",
       "      <th></th>\n",
       "      <th>location</th>\n",
       "      <th>size</th>\n",
       "      <th>total_sqft</th>\n",
       "      <th>bath</th>\n",
       "      <th>price</th>\n",
       "    </tr>\n",
       "  </thead>\n",
       "  <tbody>\n",
       "    <tr>\n",
       "      <th>2769</th>\n",
       "      <td>Kanakpura Road</td>\n",
       "      <td>3 BHK</td>\n",
       "      <td>1843</td>\n",
       "      <td>3.0</td>\n",
       "      <td>95.84</td>\n",
       "    </tr>\n",
       "    <tr>\n",
       "      <th>755</th>\n",
       "      <td>Others</td>\n",
       "      <td>3 BHK</td>\n",
       "      <td>1750</td>\n",
       "      <td>3.0</td>\n",
       "      <td>85.00</td>\n",
       "    </tr>\n",
       "    <tr>\n",
       "      <th>2337</th>\n",
       "      <td>Talaghattapura</td>\n",
       "      <td>3 BHK</td>\n",
       "      <td>1223</td>\n",
       "      <td>2.0</td>\n",
       "      <td>42.81</td>\n",
       "    </tr>\n",
       "    <tr>\n",
       "      <th>6363</th>\n",
       "      <td>Horamavu Banaswadi</td>\n",
       "      <td>2 BHK</td>\n",
       "      <td>1272</td>\n",
       "      <td>2.0</td>\n",
       "      <td>51.50</td>\n",
       "    </tr>\n",
       "    <tr>\n",
       "      <th>3954</th>\n",
       "      <td>Thanisandra</td>\n",
       "      <td>2 BHK</td>\n",
       "      <td>1296</td>\n",
       "      <td>2.0</td>\n",
       "      <td>72.00</td>\n",
       "    </tr>\n",
       "    <tr>\n",
       "      <th>8865</th>\n",
       "      <td>Yeshwanthpur</td>\n",
       "      <td>2 BHK</td>\n",
       "      <td>1165</td>\n",
       "      <td>2.0</td>\n",
       "      <td>85.00</td>\n",
       "    </tr>\n",
       "    <tr>\n",
       "      <th>1740</th>\n",
       "      <td>Whitefield</td>\n",
       "      <td>3 Bedroom</td>\n",
       "      <td>1200</td>\n",
       "      <td>3.0</td>\n",
       "      <td>68.50</td>\n",
       "    </tr>\n",
       "    <tr>\n",
       "      <th>6615</th>\n",
       "      <td>Kundalahalli</td>\n",
       "      <td>2 BHK</td>\n",
       "      <td>1047</td>\n",
       "      <td>2.0</td>\n",
       "      <td>91.00</td>\n",
       "    </tr>\n",
       "    <tr>\n",
       "      <th>5124</th>\n",
       "      <td>Whitefield</td>\n",
       "      <td>2 BHK</td>\n",
       "      <td>1230</td>\n",
       "      <td>2.0</td>\n",
       "      <td>59.00</td>\n",
       "    </tr>\n",
       "    <tr>\n",
       "      <th>681</th>\n",
       "      <td>OMBR Layout</td>\n",
       "      <td>4 Bedroom</td>\n",
       "      <td>2400</td>\n",
       "      <td>4.0</td>\n",
       "      <td>375.00</td>\n",
       "    </tr>\n",
       "  </tbody>\n",
       "</table>\n",
       "</div>"
      ],
      "text/plain": [
       "                location       size total_sqft  bath   price\n",
       "2769      Kanakpura Road      3 BHK       1843   3.0   95.84\n",
       "755               Others      3 BHK       1750   3.0   85.00\n",
       "2337      Talaghattapura      3 BHK       1223   2.0   42.81\n",
       "6363  Horamavu Banaswadi      2 BHK       1272   2.0   51.50\n",
       "3954         Thanisandra      2 BHK       1296   2.0   72.00\n",
       "8865        Yeshwanthpur      2 BHK       1165   2.0   85.00\n",
       "1740          Whitefield  3 Bedroom       1200   3.0   68.50\n",
       "6615        Kundalahalli      2 BHK       1047   2.0   91.00\n",
       "5124          Whitefield      2 BHK       1230   2.0   59.00\n",
       "681          OMBR Layout  4 Bedroom       2400   4.0  375.00"
      ]
     },
     "execution_count": 20,
     "metadata": {},
     "output_type": "execute_result"
    }
   ],
   "source": [
    "df.sample(10)"
   ]
  },
  {
   "cell_type": "code",
   "execution_count": 21,
   "id": "b01fc58d",
   "metadata": {},
   "outputs": [
    {
     "data": {
      "text/plain": [
       "location\n",
       "Others                2900\n",
       "Whitefield             540\n",
       "Sarjapur  Road         399\n",
       "Electronic City        302\n",
       "Kanakpura Road         273\n",
       "                      ... \n",
       "Marsur                  11\n",
       "Banjara Layout          11\n",
       "LB Shastri Nagar        11\n",
       "Pattandur Agrahara      11\n",
       "Narayanapura            11\n",
       "Name: count, Length: 242, dtype: int64"
      ]
     },
     "execution_count": 21,
     "metadata": {},
     "output_type": "execute_result"
    }
   ],
   "source": [
    "df['location'].value_counts()"
   ]
  },
  {
   "cell_type": "code",
   "execution_count": 22,
   "id": "7ce8eec8",
   "metadata": {},
   "outputs": [
    {
     "data": {
      "text/plain": [
       "size\n",
       "2 BHK         5199\n",
       "3 BHK         4310\n",
       "4 Bedroom      826\n",
       "4 BHK          591\n",
       "3 Bedroom      547\n",
       "1 BHK          538\n",
       "2 Bedroom      329\n",
       "5 Bedroom      297\n",
       "6 Bedroom      191\n",
       "1 Bedroom      105\n",
       "8 Bedroom       84\n",
       "7 Bedroom       83\n",
       "5 BHK           59\n",
       "9 Bedroom       46\n",
       "6 BHK           30\n",
       "7 BHK           17\n",
       "1 RK            13\n",
       "10 Bedroom      12\n",
       "9 BHK            8\n",
       "8 BHK            5\n",
       "11 BHK           2\n",
       "11 Bedroom       2\n",
       "10 BHK           2\n",
       "14 BHK           1\n",
       "13 BHK           1\n",
       "12 Bedroom       1\n",
       "27 BHK           1\n",
       "43 Bedroom       1\n",
       "16 BHK           1\n",
       "19 BHK           1\n",
       "18 Bedroom       1\n",
       "Name: count, dtype: int64"
      ]
     },
     "execution_count": 22,
     "metadata": {},
     "output_type": "execute_result"
    }
   ],
   "source": [
    "df['size'].value_counts()"
   ]
  },
  {
   "cell_type": "code",
   "execution_count": 34,
   "id": "7d3895b8",
   "metadata": {},
   "outputs": [
    {
     "data": {
      "text/plain": [
       "'43'"
      ]
     },
     "execution_count": 34,
     "metadata": {},
     "output_type": "execute_result"
    }
   ],
   "source": [
    "\"43 Bedroom\".split(' ')[0]"
   ]
  },
  {
   "cell_type": "code",
   "execution_count": 35,
   "id": "ae3f1dd0",
   "metadata": {},
   "outputs": [],
   "source": [
    "def fetchBhk(data):\n",
    "    data = str(data)\n",
    "    return float(data.split(' ')[0])"
   ]
  },
  {
   "cell_type": "code",
   "execution_count": 38,
   "id": "4976960a",
   "metadata": {},
   "outputs": [],
   "source": [
    "df['size'] = df['size'].apply(fetchBhk)"
   ]
  },
  {
   "cell_type": "code",
   "execution_count": 39,
   "id": "aaae87bd",
   "metadata": {},
   "outputs": [
    {
     "data": {
      "text/plain": [
       "size\n",
       "18.0       1\n",
       "12.0       1\n",
       "14.0       1\n",
       "43.0       1\n",
       "16.0       1\n",
       "19.0       1\n",
       "27.0       1\n",
       "13.0       1\n",
       "11.0       4\n",
       "10.0      14\n",
       "9.0       54\n",
       "8.0       89\n",
       "7.0      100\n",
       "6.0      221\n",
       "5.0      356\n",
       "1.0      656\n",
       "4.0     1417\n",
       "3.0     4857\n",
       "2.0     5528\n",
       "Name: count, dtype: int64"
      ]
     },
     "execution_count": 39,
     "metadata": {},
     "output_type": "execute_result"
    }
   ],
   "source": [
    "df['size'].value_counts(ascending=True)"
   ]
  },
  {
   "cell_type": "code",
   "execution_count": 26,
   "id": "f36974dd",
   "metadata": {},
   "outputs": [
    {
     "data": {
      "text/html": [
       "<div>\n",
       "<style scoped>\n",
       "    .dataframe tbody tr th:only-of-type {\n",
       "        vertical-align: middle;\n",
       "    }\n",
       "\n",
       "    .dataframe tbody tr th {\n",
       "        vertical-align: top;\n",
       "    }\n",
       "\n",
       "    .dataframe thead th {\n",
       "        text-align: right;\n",
       "    }\n",
       "</style>\n",
       "<table border=\"1\" class=\"dataframe\">\n",
       "  <thead>\n",
       "    <tr style=\"text-align: right;\">\n",
       "      <th></th>\n",
       "      <th>location</th>\n",
       "      <th>size</th>\n",
       "      <th>total_sqft</th>\n",
       "      <th>bath</th>\n",
       "      <th>price</th>\n",
       "    </tr>\n",
       "  </thead>\n",
       "  <tbody>\n",
       "    <tr>\n",
       "      <th>459</th>\n",
       "      <td>Others</td>\n",
       "      <td>11.0</td>\n",
       "      <td>5000</td>\n",
       "      <td>9.0</td>\n",
       "      <td>360.0</td>\n",
       "    </tr>\n",
       "    <tr>\n",
       "      <th>1718</th>\n",
       "      <td>Others</td>\n",
       "      <td>27.0</td>\n",
       "      <td>8000</td>\n",
       "      <td>27.0</td>\n",
       "      <td>230.0</td>\n",
       "    </tr>\n",
       "    <tr>\n",
       "      <th>1768</th>\n",
       "      <td>Others</td>\n",
       "      <td>11.0</td>\n",
       "      <td>1200</td>\n",
       "      <td>11.0</td>\n",
       "      <td>170.0</td>\n",
       "    </tr>\n",
       "    <tr>\n",
       "      <th>3379</th>\n",
       "      <td>Others</td>\n",
       "      <td>19.0</td>\n",
       "      <td>2000</td>\n",
       "      <td>16.0</td>\n",
       "      <td>490.0</td>\n",
       "    </tr>\n",
       "    <tr>\n",
       "      <th>3609</th>\n",
       "      <td>Others</td>\n",
       "      <td>16.0</td>\n",
       "      <td>10000</td>\n",
       "      <td>16.0</td>\n",
       "      <td>550.0</td>\n",
       "    </tr>\n",
       "    <tr>\n",
       "      <th>3853</th>\n",
       "      <td>Others</td>\n",
       "      <td>11.0</td>\n",
       "      <td>1200</td>\n",
       "      <td>6.0</td>\n",
       "      <td>150.0</td>\n",
       "    </tr>\n",
       "    <tr>\n",
       "      <th>4684</th>\n",
       "      <td>Munnekollal</td>\n",
       "      <td>43.0</td>\n",
       "      <td>2400</td>\n",
       "      <td>40.0</td>\n",
       "      <td>660.0</td>\n",
       "    </tr>\n",
       "    <tr>\n",
       "      <th>4916</th>\n",
       "      <td>Others</td>\n",
       "      <td>14.0</td>\n",
       "      <td>1250</td>\n",
       "      <td>15.0</td>\n",
       "      <td>125.0</td>\n",
       "    </tr>\n",
       "    <tr>\n",
       "      <th>6533</th>\n",
       "      <td>Mysore Road</td>\n",
       "      <td>12.0</td>\n",
       "      <td>2232</td>\n",
       "      <td>6.0</td>\n",
       "      <td>300.0</td>\n",
       "    </tr>\n",
       "    <tr>\n",
       "      <th>7979</th>\n",
       "      <td>Others</td>\n",
       "      <td>11.0</td>\n",
       "      <td>6000</td>\n",
       "      <td>12.0</td>\n",
       "      <td>150.0</td>\n",
       "    </tr>\n",
       "    <tr>\n",
       "      <th>9935</th>\n",
       "      <td>Others</td>\n",
       "      <td>13.0</td>\n",
       "      <td>5425</td>\n",
       "      <td>13.0</td>\n",
       "      <td>275.0</td>\n",
       "    </tr>\n",
       "    <tr>\n",
       "      <th>11559</th>\n",
       "      <td>Others</td>\n",
       "      <td>18.0</td>\n",
       "      <td>1200</td>\n",
       "      <td>18.0</td>\n",
       "      <td>200.0</td>\n",
       "    </tr>\n",
       "  </tbody>\n",
       "</table>\n",
       "</div>"
      ],
      "text/plain": [
       "          location  size total_sqft  bath  price\n",
       "459         Others  11.0       5000   9.0  360.0\n",
       "1718        Others  27.0       8000  27.0  230.0\n",
       "1768        Others  11.0       1200  11.0  170.0\n",
       "3379        Others  19.0       2000  16.0  490.0\n",
       "3609        Others  16.0      10000  16.0  550.0\n",
       "3853        Others  11.0       1200   6.0  150.0\n",
       "4684   Munnekollal  43.0       2400  40.0  660.0\n",
       "4916        Others  14.0       1250  15.0  125.0\n",
       "6533   Mysore Road  12.0       2232   6.0  300.0\n",
       "7979        Others  11.0       6000  12.0  150.0\n",
       "9935        Others  13.0       5425  13.0  275.0\n",
       "11559       Others  18.0       1200  18.0  200.0"
      ]
     },
     "execution_count": 26,
     "metadata": {},
     "output_type": "execute_result"
    }
   ],
   "source": [
    "df[df['size']>=11]"
   ]
  },
  {
   "cell_type": "code",
   "execution_count": 40,
   "id": "407b305b",
   "metadata": {},
   "outputs": [],
   "source": [
    "df.rename({'size':'Bhk'},axis=1,inplace=True)"
   ]
  },
  {
   "cell_type": "code",
   "execution_count": 41,
   "id": "8a062f64",
   "metadata": {},
   "outputs": [
    {
     "data": {
      "text/html": [
       "<div>\n",
       "<style scoped>\n",
       "    .dataframe tbody tr th:only-of-type {\n",
       "        vertical-align: middle;\n",
       "    }\n",
       "\n",
       "    .dataframe tbody tr th {\n",
       "        vertical-align: top;\n",
       "    }\n",
       "\n",
       "    .dataframe thead th {\n",
       "        text-align: right;\n",
       "    }\n",
       "</style>\n",
       "<table border=\"1\" class=\"dataframe\">\n",
       "  <thead>\n",
       "    <tr style=\"text-align: right;\">\n",
       "      <th></th>\n",
       "      <th>location</th>\n",
       "      <th>Bhk</th>\n",
       "      <th>total_sqft</th>\n",
       "      <th>bath</th>\n",
       "      <th>price</th>\n",
       "    </tr>\n",
       "  </thead>\n",
       "  <tbody>\n",
       "    <tr>\n",
       "      <th>459</th>\n",
       "      <td>Others</td>\n",
       "      <td>11.0</td>\n",
       "      <td>5000</td>\n",
       "      <td>9.0</td>\n",
       "      <td>360.0</td>\n",
       "    </tr>\n",
       "    <tr>\n",
       "      <th>1718</th>\n",
       "      <td>Others</td>\n",
       "      <td>27.0</td>\n",
       "      <td>8000</td>\n",
       "      <td>27.0</td>\n",
       "      <td>230.0</td>\n",
       "    </tr>\n",
       "    <tr>\n",
       "      <th>1768</th>\n",
       "      <td>Others</td>\n",
       "      <td>11.0</td>\n",
       "      <td>1200</td>\n",
       "      <td>11.0</td>\n",
       "      <td>170.0</td>\n",
       "    </tr>\n",
       "    <tr>\n",
       "      <th>3379</th>\n",
       "      <td>Others</td>\n",
       "      <td>19.0</td>\n",
       "      <td>2000</td>\n",
       "      <td>16.0</td>\n",
       "      <td>490.0</td>\n",
       "    </tr>\n",
       "    <tr>\n",
       "      <th>3609</th>\n",
       "      <td>Others</td>\n",
       "      <td>16.0</td>\n",
       "      <td>10000</td>\n",
       "      <td>16.0</td>\n",
       "      <td>550.0</td>\n",
       "    </tr>\n",
       "    <tr>\n",
       "      <th>3853</th>\n",
       "      <td>Others</td>\n",
       "      <td>11.0</td>\n",
       "      <td>1200</td>\n",
       "      <td>6.0</td>\n",
       "      <td>150.0</td>\n",
       "    </tr>\n",
       "    <tr>\n",
       "      <th>4684</th>\n",
       "      <td>Munnekollal</td>\n",
       "      <td>43.0</td>\n",
       "      <td>2400</td>\n",
       "      <td>40.0</td>\n",
       "      <td>660.0</td>\n",
       "    </tr>\n",
       "    <tr>\n",
       "      <th>4916</th>\n",
       "      <td>Others</td>\n",
       "      <td>14.0</td>\n",
       "      <td>1250</td>\n",
       "      <td>15.0</td>\n",
       "      <td>125.0</td>\n",
       "    </tr>\n",
       "    <tr>\n",
       "      <th>6533</th>\n",
       "      <td>Mysore Road</td>\n",
       "      <td>12.0</td>\n",
       "      <td>2232</td>\n",
       "      <td>6.0</td>\n",
       "      <td>300.0</td>\n",
       "    </tr>\n",
       "    <tr>\n",
       "      <th>7979</th>\n",
       "      <td>Others</td>\n",
       "      <td>11.0</td>\n",
       "      <td>6000</td>\n",
       "      <td>12.0</td>\n",
       "      <td>150.0</td>\n",
       "    </tr>\n",
       "    <tr>\n",
       "      <th>9935</th>\n",
       "      <td>Others</td>\n",
       "      <td>13.0</td>\n",
       "      <td>5425</td>\n",
       "      <td>13.0</td>\n",
       "      <td>275.0</td>\n",
       "    </tr>\n",
       "    <tr>\n",
       "      <th>11559</th>\n",
       "      <td>Others</td>\n",
       "      <td>18.0</td>\n",
       "      <td>1200</td>\n",
       "      <td>18.0</td>\n",
       "      <td>200.0</td>\n",
       "    </tr>\n",
       "  </tbody>\n",
       "</table>\n",
       "</div>"
      ],
      "text/plain": [
       "          location   Bhk total_sqft  bath  price\n",
       "459         Others  11.0       5000   9.0  360.0\n",
       "1718        Others  27.0       8000  27.0  230.0\n",
       "1768        Others  11.0       1200  11.0  170.0\n",
       "3379        Others  19.0       2000  16.0  490.0\n",
       "3609        Others  16.0      10000  16.0  550.0\n",
       "3853        Others  11.0       1200   6.0  150.0\n",
       "4684   Munnekollal  43.0       2400  40.0  660.0\n",
       "4916        Others  14.0       1250  15.0  125.0\n",
       "6533   Mysore Road  12.0       2232   6.0  300.0\n",
       "7979        Others  11.0       6000  12.0  150.0\n",
       "9935        Others  13.0       5425  13.0  275.0\n",
       "11559       Others  18.0       1200  18.0  200.0"
      ]
     },
     "execution_count": 41,
     "metadata": {},
     "output_type": "execute_result"
    }
   ],
   "source": [
    "df[df['Bhk']>=11]"
   ]
  },
  {
   "cell_type": "code",
   "execution_count": 42,
   "id": "196c5299",
   "metadata": {},
   "outputs": [],
   "source": [
    "## We are not concerned with such extereme values of Bhk with such small data so we remove it"
   ]
  },
  {
   "cell_type": "code",
   "execution_count": 46,
   "id": "911be24c",
   "metadata": {},
   "outputs": [],
   "source": [
    "df = df[~(df['Bhk']>=11)]"
   ]
  },
  {
   "cell_type": "code",
   "execution_count": 47,
   "id": "0547e6fa",
   "metadata": {},
   "outputs": [
    {
     "data": {
      "text/plain": [
       "Bhk\n",
       "2.0     5528\n",
       "3.0     4857\n",
       "4.0     1417\n",
       "1.0      656\n",
       "5.0      356\n",
       "6.0      221\n",
       "7.0      100\n",
       "8.0       89\n",
       "9.0       54\n",
       "10.0      14\n",
       "Name: count, dtype: int64"
      ]
     },
     "execution_count": 47,
     "metadata": {},
     "output_type": "execute_result"
    }
   ],
   "source": [
    "df['Bhk'].value_counts()"
   ]
  },
  {
   "cell_type": "code",
   "execution_count": 68,
   "id": "5730d9b1",
   "metadata": {},
   "outputs": [
    {
     "data": {
      "image/png": "[encoded data removed]",
      "text/plain": [
       "<Figure size 640x480 with 1 Axes>"
      ]
     },
     "metadata": {},
     "output_type": "display_data"
    }
   ],
   "source": [
    "plt.pie(df['Bhk'].value_counts().values,labels=df['Bhk'].value_counts().index,autopct=\"%0.2f\")\n",
    "plt.title(\"Distribution of Bhk's\")\n",
    "plt.show()"
   ]
  },
  {
   "cell_type": "code",
   "execution_count": 69,
   "id": "40cf8661",
   "metadata": {},
   "outputs": [
    {
     "data": {
      "text/plain": [
       "count    13292.000000\n",
       "mean         2.790776\n",
       "std          1.191067\n",
       "min          1.000000\n",
       "25%          2.000000\n",
       "50%          3.000000\n",
       "75%          3.000000\n",
       "max         10.000000\n",
       "Name: Bhk, dtype: float64"
      ]
     },
     "execution_count": 69,
     "metadata": {},
     "output_type": "execute_result"
    }
   ],
   "source": [
    "df['Bhk'].describe()"
   ]
  },
  {
   "cell_type": "code",
   "execution_count": 48,
   "id": "05d76902",
   "metadata": {},
   "outputs": [
    {
     "name": "stdout",
     "output_type": "stream",
     "text": [
      "<class 'pandas.core.frame.DataFrame'>\n",
      "Index: 13308 entries, 0 to 13319\n",
      "Data columns (total 5 columns):\n",
      " #   Column      Non-Null Count  Dtype  \n",
      "---  ------      --------------  -----  \n",
      " 0   location    13307 non-null  object \n",
      " 1   Bhk         13292 non-null  float64\n",
      " 2   total_sqft  13308 non-null  object \n",
      " 3   bath        13235 non-null  float64\n",
      " 4   price       13308 non-null  float64\n",
      "dtypes: float64(3), object(2)\n",
      "memory usage: 623.8+ KB\n"
     ]
    }
   ],
   "source": [
    "df.info()"
   ]
  },
  {
   "cell_type": "code",
   "execution_count": 73,
   "id": "e850a236",
   "metadata": {},
   "outputs": [],
   "source": [
    "df = df[~(df['Bhk'].isna())]"
   ]
  },
  {
   "cell_type": "code",
   "execution_count": 74,
   "id": "276673ae",
   "metadata": {},
   "outputs": [
    {
     "name": "stdout",
     "output_type": "stream",
     "text": [
      "<class 'pandas.core.frame.DataFrame'>\n",
      "Index: 13292 entries, 0 to 13319\n",
      "Data columns (total 5 columns):\n",
      " #   Column      Non-Null Count  Dtype  \n",
      "---  ------      --------------  -----  \n",
      " 0   location    13291 non-null  object \n",
      " 1   Bhk         13292 non-null  float64\n",
      " 2   total_sqft  13246 non-null  float64\n",
      " 3   bath        13235 non-null  float64\n",
      " 4   price       13292 non-null  float64\n",
      "dtypes: float64(4), object(1)\n",
      "memory usage: 623.1+ KB\n"
     ]
    }
   ],
   "source": [
    "df.info()"
   ]
  },
  {
   "cell_type": "code",
   "execution_count": null,
   "id": "88613c73",
   "metadata": {},
   "outputs": [],
   "source": []
  },
  {
   "cell_type": "code",
   "execution_count": 75,
   "id": "f90bb2f6",
   "metadata": {},
   "outputs": [
    {
     "data": {
      "text/plain": [
       "46"
      ]
     },
     "execution_count": 75,
     "metadata": {},
     "output_type": "execute_result"
    }
   ],
   "source": [
    "df['total_sqft'].isna().sum()"
   ]
  },
  {
   "cell_type": "code",
   "execution_count": 76,
   "id": "b85083d7",
   "metadata": {},
   "outputs": [
    {
     "data": {
      "text/plain": [
       "total_sqft\n",
       "1200.0    840\n",
       "1100.0    221\n",
       "1500.0    204\n",
       "2400.0    194\n",
       "600.0     180\n",
       "         ... \n",
       "1597.0      1\n",
       "2423.0      1\n",
       "3131.0      1\n",
       "396.0       1\n",
       "4689.0      1\n",
       "Name: count, Length: 1994, dtype: int64"
      ]
     },
     "execution_count": 76,
     "metadata": {},
     "output_type": "execute_result"
    }
   ],
   "source": [
    "df['total_sqft'].value_counts()"
   ]
  },
  {
   "cell_type": "code",
   "execution_count": 77,
   "id": "ecb64ea3",
   "metadata": {},
   "outputs": [],
   "source": [
    "def fetchSqft(data):\n",
    "    data = str(data)\n",
    "    x = data.split('-')\n",
    "    if len(x) == 2:\n",
    "        return (float(x[0]) + float(x[1])) / 2\n",
    "    try:\n",
    "        return float(data)\n",
    "    except ValueError:\n",
    "        return None\n"
   ]
  },
  {
   "cell_type": "code",
   "execution_count": 78,
   "id": "b9ddbcd3",
   "metadata": {},
   "outputs": [
    {
     "name": "stderr",
     "output_type": "stream",
     "text": [
      "C:\\Users\\itCare\\AppData\\Local\\Temp\\ipykernel_5400\\3887116185.py:1: SettingWithCopyWarning: \n",
      "A value is trying to be set on a copy of a slice from a DataFrame.\n",
      "Try using .loc[row_indexer,col_indexer] = value instead\n",
      "\n",
      "See the caveats in the documentation: https://pandas.pydata.org/pandas-docs/stable/user_guide/indexing.html#returning-a-view-versus-a-copy\n",
      "  df['total_sqft'] = df['total_sqft'].apply(fetchSqft)\n"
     ]
    }
   ],
   "source": [
    "df['total_sqft'] = df['total_sqft'].apply(fetchSqft)"
   ]
  },
  {
   "cell_type": "code",
   "execution_count": 79,
   "id": "747f1a97",
   "metadata": {},
   "outputs": [
    {
     "name": "stdout",
     "output_type": "stream",
     "text": [
      "<class 'pandas.core.series.Series'>\n",
      "Index: 13292 entries, 0 to 13319\n",
      "Series name: total_sqft\n",
      "Non-Null Count  Dtype  \n",
      "--------------  -----  \n",
      "13246 non-null  float64\n",
      "dtypes: float64(1)\n",
      "memory usage: 207.7 KB\n"
     ]
    }
   ],
   "source": [
    "df['total_sqft'].info()"
   ]
  },
  {
   "cell_type": "code",
   "execution_count": 80,
   "id": "21be8416",
   "metadata": {},
   "outputs": [
    {
     "data": {
      "text/plain": [
       "count    13246.000000\n",
       "mean      1556.758737\n",
       "std       1234.073453\n",
       "min          1.000000\n",
       "25%       1100.000000\n",
       "50%       1275.000000\n",
       "75%       1678.000000\n",
       "max      52272.000000\n",
       "Name: total_sqft, dtype: float64"
      ]
     },
     "execution_count": 80,
     "metadata": {},
     "output_type": "execute_result"
    }
   ],
   "source": [
    "df['total_sqft'].describe()"
   ]
  },
  {
   "cell_type": "code",
   "execution_count": 82,
   "id": "882b298f",
   "metadata": {},
   "outputs": [],
   "source": [
    "df = df[~(df['total_sqft'].isna())]"
   ]
  },
  {
   "cell_type": "code",
   "execution_count": 83,
   "id": "931cbfa8",
   "metadata": {},
   "outputs": [
    {
     "data": {
      "text/plain": [
       "total_sqft\n",
       "1200.0    840\n",
       "1100.0    221\n",
       "1500.0    204\n",
       "2400.0    194\n",
       "600.0     180\n",
       "         ... \n",
       "1597.0      1\n",
       "2423.0      1\n",
       "3131.0      1\n",
       "396.0       1\n",
       "4689.0      1\n",
       "Name: count, Length: 1994, dtype: int64"
      ]
     },
     "execution_count": 83,
     "metadata": {},
     "output_type": "execute_result"
    }
   ],
   "source": [
    "df['total_sqft'].value_counts()"
   ]
  },
  {
   "cell_type": "code",
   "execution_count": 84,
   "id": "06e47ee2",
   "metadata": {},
   "outputs": [
    {
     "data": {
      "text/plain": [
       "count    13246.000000\n",
       "mean      1556.758737\n",
       "std       1234.073453\n",
       "min          1.000000\n",
       "25%       1100.000000\n",
       "50%       1275.000000\n",
       "75%       1678.000000\n",
       "max      52272.000000\n",
       "Name: total_sqft, dtype: float64"
      ]
     },
     "execution_count": 84,
     "metadata": {},
     "output_type": "execute_result"
    }
   ],
   "source": [
    "df['total_sqft'].describe()"
   ]
  },
  {
   "cell_type": "code",
   "execution_count": 85,
   "id": "e677a0ac",
   "metadata": {},
   "outputs": [
    {
     "data": {
      "text/plain": [
       "[]"
      ]
     },
     "execution_count": 85,
     "metadata": {},
     "output_type": "execute_result"
    },
    {
     "data": {
      "image/png": "[encoded data removed]",
      "text/plain": [
       "<Figure size 640x480 with 1 Axes>"
      ]
     },
     "metadata": {},
     "output_type": "display_data"
    }
   ],
   "source": [
    "# Detecting Outliers\n",
    "plt.boxplot(df['total_sqft'])\n",
    "plt.plot()"
   ]
  },
  {
   "cell_type": "code",
   "execution_count": 86,
   "id": "b76ed3b1",
   "metadata": {},
   "outputs": [
    {
     "data": {
      "text/plain": [
       "[]"
      ]
     },
     "execution_count": 86,
     "metadata": {},
     "output_type": "execute_result"
    },
    {
     "data": {
      "image/png": "[encoded data removed]",
      "text/plain": [
       "<Figure size 640x480 with 1 Axes>"
      ]
     },
     "metadata": {},
     "output_type": "display_data"
    }
   ],
   "source": [
    "plt.hist(df['total_sqft'],bins=20,log=True)\n",
    "plt.plot()"
   ]
  },
  {
   "cell_type": "code",
   "execution_count": null,
   "id": "110c2966",
   "metadata": {},
   "outputs": [],
   "source": []
  },
  {
   "cell_type": "code",
   "execution_count": 40,
   "id": "ba082b46",
   "metadata": {},
   "outputs": [],
   "source": [
    "## Detecting Outliers using IQR Techhnique"
   ]
  },
  {
   "cell_type": "code",
   "execution_count": 87,
   "id": "f4bb09d3",
   "metadata": {},
   "outputs": [],
   "source": [
    "q1 = np.percentile(df['total_sqft'],25)"
   ]
  },
  {
   "cell_type": "code",
   "execution_count": 88,
   "id": "33cffed5",
   "metadata": {},
   "outputs": [],
   "source": [
    "q3 = np.percentile(df['total_sqft'],75)"
   ]
  },
  {
   "cell_type": "code",
   "execution_count": 89,
   "id": "7146f7e9",
   "metadata": {},
   "outputs": [],
   "source": [
    "q2 = np.median(df['total_sqft'])"
   ]
  },
  {
   "cell_type": "code",
   "execution_count": 90,
   "id": "8b6323c8",
   "metadata": {},
   "outputs": [],
   "source": [
    "IqR = q3-q1"
   ]
  },
  {
   "cell_type": "code",
   "execution_count": 91,
   "id": "c3623da5",
   "metadata": {},
   "outputs": [
    {
     "data": {
      "text/plain": [
       "(578.0, 1275.0)"
      ]
     },
     "execution_count": 91,
     "metadata": {},
     "output_type": "execute_result"
    }
   ],
   "source": [
    "IqR , q2"
   ]
  },
  {
   "cell_type": "code",
   "execution_count": 92,
   "id": "0b08244b",
   "metadata": {},
   "outputs": [
    {
     "data": {
      "text/plain": [
       "(1678.0, 1100.0)"
      ]
     },
     "execution_count": 92,
     "metadata": {},
     "output_type": "execute_result"
    }
   ],
   "source": [
    "q3 , q1"
   ]
  },
  {
   "cell_type": "code",
   "execution_count": 93,
   "id": "68ad2dcc",
   "metadata": {},
   "outputs": [],
   "source": [
    "outlier_index = df[(df['total_sqft'] < q1 - 1.5*IqR) | (df['total_sqft']>q3+1.5*IqR)].index"
   ]
  },
  {
   "cell_type": "code",
   "execution_count": null,
   "id": "4fa4d09d",
   "metadata": {},
   "outputs": [],
   "source": []
  },
  {
   "cell_type": "code",
   "execution_count": 94,
   "id": "4ce7547b",
   "metadata": {},
   "outputs": [
    {
     "data": {
      "text/plain": [
       "Index([    1,     6,     7,    11,    18,    22,    56,    60,    62,    64,\n",
       "       ...\n",
       "       13205, 13208, 13226, 13246, 13268, 13290, 13299, 13315, 13316, 13318],\n",
       "      dtype='int64', length=1164)"
      ]
     },
     "execution_count": 94,
     "metadata": {},
     "output_type": "execute_result"
    }
   ],
   "source": [
    "outlier_index"
   ]
  },
  {
   "cell_type": "code",
   "execution_count": 95,
   "id": "5de8d82e",
   "metadata": {},
   "outputs": [],
   "source": [
    "oi = [i  for i in outlier_index if i<len(df)]"
   ]
  },
  {
   "cell_type": "code",
   "execution_count": 100,
   "id": "5e7f33fb",
   "metadata": {},
   "outputs": [
    {
     "data": {
      "text/plain": [
       "count    13246.000000\n",
       "mean       112.295565\n",
       "std        148.956040\n",
       "min          8.000000\n",
       "25%         50.000000\n",
       "50%         72.000000\n",
       "75%        120.000000\n",
       "max       3600.000000\n",
       "Name: price, dtype: float64"
      ]
     },
     "execution_count": 100,
     "metadata": {},
     "output_type": "execute_result"
    }
   ],
   "source": [
    "df['price'].describe()"
   ]
  },
  {
   "cell_type": "code",
   "execution_count": 101,
   "id": "9453f278",
   "metadata": {},
   "outputs": [
    {
     "data": {
      "text/plain": [
       "location\n",
       "Others                  243\n",
       "Sarjapur  Road           46\n",
       "Whitefield               43\n",
       "Electronic City          28\n",
       "Uttarahalli              20\n",
       "                       ... \n",
       "Cunningham Road           1\n",
       "Mahalakshmi Layout        1\n",
       "Vishveshwarya Layout      1\n",
       "Nehru Nagar               1\n",
       "Abbigere                  1\n",
       "Name: count, Length: 207, dtype: int64"
      ]
     },
     "execution_count": 101,
     "metadata": {},
     "output_type": "execute_result"
    }
   ],
   "source": [
    "df.iloc[oi]['location'].value_counts()"
   ]
  },
  {
   "cell_type": "code",
   "execution_count": 102,
   "id": "8046080c",
   "metadata": {},
   "outputs": [
    {
     "data": {
      "text/plain": [
       "bath\n",
       "2.0     6893\n",
       "3.0     3275\n",
       "4.0     1222\n",
       "1.0      781\n",
       "5.0      521\n",
       "6.0      267\n",
       "7.0      102\n",
       "8.0       64\n",
       "9.0       40\n",
       "10.0      13\n",
       "12.0       6\n",
       "11.0       2\n",
       "13.0       2\n",
       "14.0       1\n",
       "Name: count, dtype: int64"
      ]
     },
     "execution_count": 102,
     "metadata": {},
     "output_type": "execute_result"
    }
   ],
   "source": [
    "df['bath'].value_counts()"
   ]
  },
  {
   "cell_type": "code",
   "execution_count": 106,
   "id": "0910fb23",
   "metadata": {},
   "outputs": [],
   "source": [
    "df['Price_Per_Sqft'] = (df['price'] / df['total_sqft']) * (1e5)"
   ]
  },
  {
   "cell_type": "code",
   "execution_count": 107,
   "id": "5723804c",
   "metadata": {},
   "outputs": [
    {
     "data": {
      "text/html": [
       "<div>\n",
       "<style scoped>\n",
       "    .dataframe tbody tr th:only-of-type {\n",
       "        vertical-align: middle;\n",
       "    }\n",
       "\n",
       "    .dataframe tbody tr th {\n",
       "        vertical-align: top;\n",
       "    }\n",
       "\n",
       "    .dataframe thead th {\n",
       "        text-align: right;\n",
       "    }\n",
       "</style>\n",
       "<table border=\"1\" class=\"dataframe\">\n",
       "  <thead>\n",
       "    <tr style=\"text-align: right;\">\n",
       "      <th></th>\n",
       "      <th>location</th>\n",
       "      <th>Bhk</th>\n",
       "      <th>total_sqft</th>\n",
       "      <th>bath</th>\n",
       "      <th>price</th>\n",
       "      <th>Price_Per_Sqft</th>\n",
       "    </tr>\n",
       "  </thead>\n",
       "  <tbody>\n",
       "    <tr>\n",
       "      <th>0</th>\n",
       "      <td>Electronic City Phase II</td>\n",
       "      <td>2.0</td>\n",
       "      <td>1056.0</td>\n",
       "      <td>2.0</td>\n",
       "      <td>39.07</td>\n",
       "      <td>3699.810606</td>\n",
       "    </tr>\n",
       "    <tr>\n",
       "      <th>1</th>\n",
       "      <td>Chikka Tirupathi</td>\n",
       "      <td>4.0</td>\n",
       "      <td>2600.0</td>\n",
       "      <td>5.0</td>\n",
       "      <td>120.00</td>\n",
       "      <td>4615.384615</td>\n",
       "    </tr>\n",
       "    <tr>\n",
       "      <th>2</th>\n",
       "      <td>Uttarahalli</td>\n",
       "      <td>3.0</td>\n",
       "      <td>1440.0</td>\n",
       "      <td>2.0</td>\n",
       "      <td>62.00</td>\n",
       "      <td>4305.555556</td>\n",
       "    </tr>\n",
       "    <tr>\n",
       "      <th>3</th>\n",
       "      <td>Lingadheeranahalli</td>\n",
       "      <td>3.0</td>\n",
       "      <td>1521.0</td>\n",
       "      <td>3.0</td>\n",
       "      <td>95.00</td>\n",
       "      <td>6245.890861</td>\n",
       "    </tr>\n",
       "    <tr>\n",
       "      <th>4</th>\n",
       "      <td>Kothanur</td>\n",
       "      <td>2.0</td>\n",
       "      <td>1200.0</td>\n",
       "      <td>2.0</td>\n",
       "      <td>51.00</td>\n",
       "      <td>4250.000000</td>\n",
       "    </tr>\n",
       "    <tr>\n",
       "      <th>...</th>\n",
       "      <td>...</td>\n",
       "      <td>...</td>\n",
       "      <td>...</td>\n",
       "      <td>...</td>\n",
       "      <td>...</td>\n",
       "      <td>...</td>\n",
       "    </tr>\n",
       "    <tr>\n",
       "      <th>13315</th>\n",
       "      <td>Whitefield</td>\n",
       "      <td>5.0</td>\n",
       "      <td>3453.0</td>\n",
       "      <td>4.0</td>\n",
       "      <td>231.00</td>\n",
       "      <td>6689.834926</td>\n",
       "    </tr>\n",
       "    <tr>\n",
       "      <th>13316</th>\n",
       "      <td>Others</td>\n",
       "      <td>4.0</td>\n",
       "      <td>3600.0</td>\n",
       "      <td>5.0</td>\n",
       "      <td>400.00</td>\n",
       "      <td>11111.111111</td>\n",
       "    </tr>\n",
       "    <tr>\n",
       "      <th>13317</th>\n",
       "      <td>Raja Rajeshwari Nagar</td>\n",
       "      <td>2.0</td>\n",
       "      <td>1141.0</td>\n",
       "      <td>2.0</td>\n",
       "      <td>60.00</td>\n",
       "      <td>5258.545136</td>\n",
       "    </tr>\n",
       "    <tr>\n",
       "      <th>13318</th>\n",
       "      <td>Padmanabhanagar</td>\n",
       "      <td>4.0</td>\n",
       "      <td>4689.0</td>\n",
       "      <td>4.0</td>\n",
       "      <td>488.00</td>\n",
       "      <td>10407.336319</td>\n",
       "    </tr>\n",
       "    <tr>\n",
       "      <th>13319</th>\n",
       "      <td>Doddathoguru</td>\n",
       "      <td>1.0</td>\n",
       "      <td>550.0</td>\n",
       "      <td>1.0</td>\n",
       "      <td>17.00</td>\n",
       "      <td>3090.909091</td>\n",
       "    </tr>\n",
       "  </tbody>\n",
       "</table>\n",
       "<p>13246 rows × 6 columns</p>\n",
       "</div>"
      ],
      "text/plain": [
       "                       location  Bhk  total_sqft  bath   price  Price_Per_Sqft\n",
       "0      Electronic City Phase II  2.0      1056.0   2.0   39.07     3699.810606\n",
       "1              Chikka Tirupathi  4.0      2600.0   5.0  120.00     4615.384615\n",
       "2                   Uttarahalli  3.0      1440.0   2.0   62.00     4305.555556\n",
       "3            Lingadheeranahalli  3.0      1521.0   3.0   95.00     6245.890861\n",
       "4                      Kothanur  2.0      1200.0   2.0   51.00     4250.000000\n",
       "...                         ...  ...         ...   ...     ...             ...\n",
       "13315                Whitefield  5.0      3453.0   4.0  231.00     6689.834926\n",
       "13316                    Others  4.0      3600.0   5.0  400.00    11111.111111\n",
       "13317     Raja Rajeshwari Nagar  2.0      1141.0   2.0   60.00     5258.545136\n",
       "13318           Padmanabhanagar  4.0      4689.0   4.0  488.00    10407.336319\n",
       "13319              Doddathoguru  1.0       550.0   1.0   17.00     3090.909091\n",
       "\n",
       "[13246 rows x 6 columns]"
      ]
     },
     "execution_count": 107,
     "metadata": {},
     "output_type": "execute_result"
    }
   ],
   "source": [
    "df"
   ]
  },
  {
   "cell_type": "code",
   "execution_count": 108,
   "id": "150e9179",
   "metadata": {},
   "outputs": [
    {
     "data": {
      "text/html": [
       "<div>\n",
       "<style scoped>\n",
       "    .dataframe tbody tr th:only-of-type {\n",
       "        vertical-align: middle;\n",
       "    }\n",
       "\n",
       "    .dataframe tbody tr th {\n",
       "        vertical-align: top;\n",
       "    }\n",
       "\n",
       "    .dataframe thead th {\n",
       "        text-align: right;\n",
       "    }\n",
       "</style>\n",
       "<table border=\"1\" class=\"dataframe\">\n",
       "  <thead>\n",
       "    <tr style=\"text-align: right;\">\n",
       "      <th></th>\n",
       "      <th>Bhk</th>\n",
       "      <th>total_sqft</th>\n",
       "      <th>bath</th>\n",
       "      <th>price</th>\n",
       "      <th>Price_Per_Sqft</th>\n",
       "    </tr>\n",
       "  </thead>\n",
       "  <tbody>\n",
       "    <tr>\n",
       "      <th>count</th>\n",
       "      <td>13246.000000</td>\n",
       "      <td>13246.000000</td>\n",
       "      <td>13189.000000</td>\n",
       "      <td>13246.000000</td>\n",
       "      <td>1.324600e+04</td>\n",
       "    </tr>\n",
       "    <tr>\n",
       "      <th>mean</th>\n",
       "      <td>2.789672</td>\n",
       "      <td>1556.758737</td>\n",
       "      <td>2.679278</td>\n",
       "      <td>112.295565</td>\n",
       "      <td>7.909088e+03</td>\n",
       "    </tr>\n",
       "    <tr>\n",
       "      <th>std</th>\n",
       "      <td>1.187516</td>\n",
       "      <td>1234.073453</td>\n",
       "      <td>1.250215</td>\n",
       "      <td>148.956040</td>\n",
       "      <td>1.065415e+05</td>\n",
       "    </tr>\n",
       "    <tr>\n",
       "      <th>min</th>\n",
       "      <td>1.000000</td>\n",
       "      <td>1.000000</td>\n",
       "      <td>1.000000</td>\n",
       "      <td>8.000000</td>\n",
       "      <td>2.678298e+02</td>\n",
       "    </tr>\n",
       "    <tr>\n",
       "      <th>25%</th>\n",
       "      <td>2.000000</td>\n",
       "      <td>1100.000000</td>\n",
       "      <td>2.000000</td>\n",
       "      <td>50.000000</td>\n",
       "      <td>4.270379e+03</td>\n",
       "    </tr>\n",
       "    <tr>\n",
       "      <th>50%</th>\n",
       "      <td>3.000000</td>\n",
       "      <td>1275.000000</td>\n",
       "      <td>2.000000</td>\n",
       "      <td>72.000000</td>\n",
       "      <td>5.434783e+03</td>\n",
       "    </tr>\n",
       "    <tr>\n",
       "      <th>75%</th>\n",
       "      <td>3.000000</td>\n",
       "      <td>1678.000000</td>\n",
       "      <td>3.000000</td>\n",
       "      <td>120.000000</td>\n",
       "      <td>7.310441e+03</td>\n",
       "    </tr>\n",
       "    <tr>\n",
       "      <th>max</th>\n",
       "      <td>10.000000</td>\n",
       "      <td>52272.000000</td>\n",
       "      <td>14.000000</td>\n",
       "      <td>3600.000000</td>\n",
       "      <td>1.200000e+07</td>\n",
       "    </tr>\n",
       "  </tbody>\n",
       "</table>\n",
       "</div>"
      ],
      "text/plain": [
       "                Bhk    total_sqft          bath         price  Price_Per_Sqft\n",
       "count  13246.000000  13246.000000  13189.000000  13246.000000    1.324600e+04\n",
       "mean       2.789672   1556.758737      2.679278    112.295565    7.909088e+03\n",
       "std        1.187516   1234.073453      1.250215    148.956040    1.065415e+05\n",
       "min        1.000000      1.000000      1.000000      8.000000    2.678298e+02\n",
       "25%        2.000000   1100.000000      2.000000     50.000000    4.270379e+03\n",
       "50%        3.000000   1275.000000      2.000000     72.000000    5.434783e+03\n",
       "75%        3.000000   1678.000000      3.000000    120.000000    7.310441e+03\n",
       "max       10.000000  52272.000000     14.000000   3600.000000    1.200000e+07"
      ]
     },
     "execution_count": 108,
     "metadata": {},
     "output_type": "execute_result"
    }
   ],
   "source": [
    "df.describe()"
   ]
  },
  {
   "cell_type": "code",
   "execution_count": 112,
   "id": "6e202192",
   "metadata": {},
   "outputs": [],
   "source": [
    "df['Size-Per-Bedroom'] = (df['total_sqft'] / df['Bhk'])"
   ]
  },
  {
   "cell_type": "code",
   "execution_count": 115,
   "id": "c47c191c",
   "metadata": {},
   "outputs": [
    {
     "data": {
      "text/plain": [
       "count    13246.000000\n",
       "mean       574.709978\n",
       "std        387.595469\n",
       "min          0.250000\n",
       "25%        473.333333\n",
       "50%        552.500000\n",
       "75%        625.000000\n",
       "max      26136.000000\n",
       "Name: Size-Per-Bedroom, dtype: float64"
      ]
     },
     "execution_count": 115,
     "metadata": {},
     "output_type": "execute_result"
    }
   ],
   "source": [
    "df['Size-Per-Bedroom'].describe()"
   ]
  },
  {
   "cell_type": "code",
   "execution_count": 118,
   "id": "b87c11c3",
   "metadata": {},
   "outputs": [
    {
     "data": {
      "text/plain": [
       "270.0"
      ]
     },
     "execution_count": 118,
     "metadata": {},
     "output_type": "execute_result"
    }
   ],
   "source": [
    "np.percentile(df['Size-Per-Bedroom'],5)"
   ]
  },
  {
   "cell_type": "code",
   "execution_count": 125,
   "id": "35946ff6",
   "metadata": {},
   "outputs": [
    {
     "data": {
      "text/plain": [
       "891.125"
      ]
     },
     "execution_count": 125,
     "metadata": {},
     "output_type": "execute_result"
    }
   ],
   "source": [
    "np.percentile(df['Size-Per-Bedroom'],95)"
   ]
  },
  {
   "cell_type": "code",
   "execution_count": 130,
   "id": "6b2c3da6",
   "metadata": {},
   "outputs": [
    {
     "data": {
      "text/plain": [
       "891.125"
      ]
     },
     "execution_count": 130,
     "metadata": {},
     "output_type": "execute_result"
    }
   ],
   "source": [
    "np.percentile(df['Size-Per-Bedroom'],95)"
   ]
  },
  {
   "cell_type": "code",
   "execution_count": 181,
   "id": "b2b03d1d",
   "metadata": {},
   "outputs": [],
   "source": [
    "df = df[~((df['Size-Per-Bedroom'] <= 270) | (df['Size-Per-Bedroom']>=890))]"
   ]
  },
  {
   "cell_type": "code",
   "execution_count": 146,
   "id": "c4bfcbc5",
   "metadata": {},
   "outputs": [
    {
     "data": {
      "text/plain": [
       "count    1.324600e+04\n",
       "mean     7.909088e+03\n",
       "std      1.065415e+05\n",
       "min      2.678298e+02\n",
       "25%      4.270379e+03\n",
       "50%      5.434783e+03\n",
       "75%      7.310441e+03\n",
       "max      1.200000e+07\n",
       "Name: Price_Per_Sqft, dtype: float64"
      ]
     },
     "execution_count": 146,
     "metadata": {},
     "output_type": "execute_result"
    }
   ],
   "source": [
    "df['Price_Per_Sqft'].describe()"
   ]
  },
  {
   "cell_type": "code",
   "execution_count": 169,
   "id": "0b55cb56",
   "metadata": {},
   "outputs": [],
   "source": [
    "d = {}"
   ]
  },
  {
   "cell_type": "code",
   "execution_count": 170,
   "id": "0d6f1336",
   "metadata": {},
   "outputs": [],
   "source": [
    "d[1] = np.percentile(df['Price_Per_Sqft'],1)"
   ]
  },
  {
   "cell_type": "code",
   "execution_count": 171,
   "id": "b2d097b4",
   "metadata": {},
   "outputs": [],
   "source": [
    "for i in range(5,101,5):\n",
    "    d[i] = round(np.percentile(df['Price_Per_Sqft'],i),2)"
   ]
  },
  {
   "cell_type": "code",
   "execution_count": 172,
   "id": "d54a6e32",
   "metadata": {},
   "outputs": [],
   "source": [
    "d[99] = np.percentile(df['Price_Per_Sqft'],99)"
   ]
  },
  {
   "cell_type": "code",
   "execution_count": 173,
   "id": "cc98bc5c",
   "metadata": {},
   "outputs": [
    {
     "data": {
      "text/plain": [
       "{1: 2549.753694581281,\n",
       " 5: 3115.38,\n",
       " 10: 3500.35,\n",
       " 15: 3800.16,\n",
       " 20: 4023.67,\n",
       " 25: 4270.38,\n",
       " 30: 4499.77,\n",
       " 35: 4736.84,\n",
       " 40: 4954.29,\n",
       " 45: 5176.64,\n",
       " 50: 5434.78,\n",
       " 55: 5684.69,\n",
       " 60: 6000.0,\n",
       " 65: 6363.64,\n",
       " 70: 6776.18,\n",
       " 75: 7310.44,\n",
       " 80: 8007.69,\n",
       " 85: 9299.32,\n",
       " 90: 11585.66,\n",
       " 95: 15191.7,\n",
       " 100: 12000000.0,\n",
       " 99: 23371.33760444431}"
      ]
     },
     "execution_count": 173,
     "metadata": {},
     "output_type": "execute_result"
    }
   ],
   "source": [
    "d"
   ]
  },
  {
   "cell_type": "code",
   "execution_count": 185,
   "id": "9d4280c1",
   "metadata": {},
   "outputs": [
    {
     "data": {
      "text/html": [
       "<div>\n",
       "<style scoped>\n",
       "    .dataframe tbody tr th:only-of-type {\n",
       "        vertical-align: middle;\n",
       "    }\n",
       "\n",
       "    .dataframe tbody tr th {\n",
       "        vertical-align: top;\n",
       "    }\n",
       "\n",
       "    .dataframe thead th {\n",
       "        text-align: right;\n",
       "    }\n",
       "</style>\n",
       "<table border=\"1\" class=\"dataframe\">\n",
       "  <thead>\n",
       "    <tr style=\"text-align: right;\">\n",
       "      <th></th>\n",
       "      <th>location</th>\n",
       "      <th>Bhk</th>\n",
       "      <th>total_sqft</th>\n",
       "      <th>bath</th>\n",
       "      <th>price</th>\n",
       "      <th>Price_Per_Sqft</th>\n",
       "      <th>Size-Per-Bedroom</th>\n",
       "    </tr>\n",
       "  </thead>\n",
       "  <tbody>\n",
       "    <tr>\n",
       "      <th>0</th>\n",
       "      <td>Electronic City Phase II</td>\n",
       "      <td>2.0</td>\n",
       "      <td>1056.0</td>\n",
       "      <td>2.0</td>\n",
       "      <td>39.07</td>\n",
       "      <td>3699.810606</td>\n",
       "      <td>528.000000</td>\n",
       "    </tr>\n",
       "    <tr>\n",
       "      <th>1</th>\n",
       "      <td>Chikka Tirupathi</td>\n",
       "      <td>4.0</td>\n",
       "      <td>2600.0</td>\n",
       "      <td>5.0</td>\n",
       "      <td>120.00</td>\n",
       "      <td>4615.384615</td>\n",
       "      <td>650.000000</td>\n",
       "    </tr>\n",
       "    <tr>\n",
       "      <th>2</th>\n",
       "      <td>Uttarahalli</td>\n",
       "      <td>3.0</td>\n",
       "      <td>1440.0</td>\n",
       "      <td>2.0</td>\n",
       "      <td>62.00</td>\n",
       "      <td>4305.555556</td>\n",
       "      <td>480.000000</td>\n",
       "    </tr>\n",
       "    <tr>\n",
       "      <th>3</th>\n",
       "      <td>Lingadheeranahalli</td>\n",
       "      <td>3.0</td>\n",
       "      <td>1521.0</td>\n",
       "      <td>3.0</td>\n",
       "      <td>95.00</td>\n",
       "      <td>6245.890861</td>\n",
       "      <td>507.000000</td>\n",
       "    </tr>\n",
       "    <tr>\n",
       "      <th>4</th>\n",
       "      <td>Kothanur</td>\n",
       "      <td>2.0</td>\n",
       "      <td>1200.0</td>\n",
       "      <td>2.0</td>\n",
       "      <td>51.00</td>\n",
       "      <td>4250.000000</td>\n",
       "      <td>600.000000</td>\n",
       "    </tr>\n",
       "    <tr>\n",
       "      <th>...</th>\n",
       "      <td>...</td>\n",
       "      <td>...</td>\n",
       "      <td>...</td>\n",
       "      <td>...</td>\n",
       "      <td>...</td>\n",
       "      <td>...</td>\n",
       "      <td>...</td>\n",
       "    </tr>\n",
       "    <tr>\n",
       "      <th>13313</th>\n",
       "      <td>Uttarahalli</td>\n",
       "      <td>3.0</td>\n",
       "      <td>1345.0</td>\n",
       "      <td>2.0</td>\n",
       "      <td>57.00</td>\n",
       "      <td>4237.918216</td>\n",
       "      <td>448.333333</td>\n",
       "    </tr>\n",
       "    <tr>\n",
       "      <th>13314</th>\n",
       "      <td>Green Glen Layout</td>\n",
       "      <td>3.0</td>\n",
       "      <td>1715.0</td>\n",
       "      <td>3.0</td>\n",
       "      <td>112.00</td>\n",
       "      <td>6530.612245</td>\n",
       "      <td>571.666667</td>\n",
       "    </tr>\n",
       "    <tr>\n",
       "      <th>13315</th>\n",
       "      <td>Whitefield</td>\n",
       "      <td>5.0</td>\n",
       "      <td>3453.0</td>\n",
       "      <td>4.0</td>\n",
       "      <td>231.00</td>\n",
       "      <td>6689.834926</td>\n",
       "      <td>690.600000</td>\n",
       "    </tr>\n",
       "    <tr>\n",
       "      <th>13317</th>\n",
       "      <td>Raja Rajeshwari Nagar</td>\n",
       "      <td>2.0</td>\n",
       "      <td>1141.0</td>\n",
       "      <td>2.0</td>\n",
       "      <td>60.00</td>\n",
       "      <td>5258.545136</td>\n",
       "      <td>570.500000</td>\n",
       "    </tr>\n",
       "    <tr>\n",
       "      <th>13319</th>\n",
       "      <td>Doddathoguru</td>\n",
       "      <td>1.0</td>\n",
       "      <td>550.0</td>\n",
       "      <td>1.0</td>\n",
       "      <td>17.00</td>\n",
       "      <td>3090.909091</td>\n",
       "      <td>550.000000</td>\n",
       "    </tr>\n",
       "  </tbody>\n",
       "</table>\n",
       "<p>11912 rows × 7 columns</p>\n",
       "</div>"
      ],
      "text/plain": [
       "                       location  Bhk  total_sqft  bath   price  \\\n",
       "0      Electronic City Phase II  2.0      1056.0   2.0   39.07   \n",
       "1              Chikka Tirupathi  4.0      2600.0   5.0  120.00   \n",
       "2                   Uttarahalli  3.0      1440.0   2.0   62.00   \n",
       "3            Lingadheeranahalli  3.0      1521.0   3.0   95.00   \n",
       "4                      Kothanur  2.0      1200.0   2.0   51.00   \n",
       "...                         ...  ...         ...   ...     ...   \n",
       "13313               Uttarahalli  3.0      1345.0   2.0   57.00   \n",
       "13314         Green Glen Layout  3.0      1715.0   3.0  112.00   \n",
       "13315                Whitefield  5.0      3453.0   4.0  231.00   \n",
       "13317     Raja Rajeshwari Nagar  2.0      1141.0   2.0   60.00   \n",
       "13319              Doddathoguru  1.0       550.0   1.0   17.00   \n",
       "\n",
       "       Price_Per_Sqft  Size-Per-Bedroom  \n",
       "0         3699.810606        528.000000  \n",
       "1         4615.384615        650.000000  \n",
       "2         4305.555556        480.000000  \n",
       "3         6245.890861        507.000000  \n",
       "4         4250.000000        600.000000  \n",
       "...               ...               ...  \n",
       "13313     4237.918216        448.333333  \n",
       "13314     6530.612245        571.666667  \n",
       "13315     6689.834926        690.600000  \n",
       "13317     5258.545136        570.500000  \n",
       "13319     3090.909091        550.000000  \n",
       "\n",
       "[11912 rows x 7 columns]"
      ]
     },
     "execution_count": 185,
     "metadata": {},
     "output_type": "execute_result"
    }
   ],
   "source": [
    "df"
   ]
  },
  {
   "cell_type": "code",
   "execution_count": 186,
   "id": "93df2053",
   "metadata": {},
   "outputs": [],
   "source": [
    "df = df[~(df['Price_Per_Sqft']<=2550) | (df['Price_Per_Sqft']>=11500)]"
   ]
  },
  {
   "cell_type": "code",
   "execution_count": 187,
   "id": "a155943c",
   "metadata": {},
   "outputs": [
    {
     "data": {
      "text/html": [
       "<div>\n",
       "<style scoped>\n",
       "    .dataframe tbody tr th:only-of-type {\n",
       "        vertical-align: middle;\n",
       "    }\n",
       "\n",
       "    .dataframe tbody tr th {\n",
       "        vertical-align: top;\n",
       "    }\n",
       "\n",
       "    .dataframe thead th {\n",
       "        text-align: right;\n",
       "    }\n",
       "</style>\n",
       "<table border=\"1\" class=\"dataframe\">\n",
       "  <thead>\n",
       "    <tr style=\"text-align: right;\">\n",
       "      <th></th>\n",
       "      <th>location</th>\n",
       "      <th>Bhk</th>\n",
       "      <th>total_sqft</th>\n",
       "      <th>bath</th>\n",
       "      <th>price</th>\n",
       "      <th>Price_Per_Sqft</th>\n",
       "      <th>Size-Per-Bedroom</th>\n",
       "    </tr>\n",
       "  </thead>\n",
       "  <tbody>\n",
       "    <tr>\n",
       "      <th>0</th>\n",
       "      <td>Electronic City Phase II</td>\n",
       "      <td>2.0</td>\n",
       "      <td>1056.0</td>\n",
       "      <td>2.0</td>\n",
       "      <td>39.07</td>\n",
       "      <td>3699.810606</td>\n",
       "      <td>528.000000</td>\n",
       "    </tr>\n",
       "    <tr>\n",
       "      <th>1</th>\n",
       "      <td>Chikka Tirupathi</td>\n",
       "      <td>4.0</td>\n",
       "      <td>2600.0</td>\n",
       "      <td>5.0</td>\n",
       "      <td>120.00</td>\n",
       "      <td>4615.384615</td>\n",
       "      <td>650.000000</td>\n",
       "    </tr>\n",
       "    <tr>\n",
       "      <th>2</th>\n",
       "      <td>Uttarahalli</td>\n",
       "      <td>3.0</td>\n",
       "      <td>1440.0</td>\n",
       "      <td>2.0</td>\n",
       "      <td>62.00</td>\n",
       "      <td>4305.555556</td>\n",
       "      <td>480.000000</td>\n",
       "    </tr>\n",
       "    <tr>\n",
       "      <th>3</th>\n",
       "      <td>Lingadheeranahalli</td>\n",
       "      <td>3.0</td>\n",
       "      <td>1521.0</td>\n",
       "      <td>3.0</td>\n",
       "      <td>95.00</td>\n",
       "      <td>6245.890861</td>\n",
       "      <td>507.000000</td>\n",
       "    </tr>\n",
       "    <tr>\n",
       "      <th>4</th>\n",
       "      <td>Kothanur</td>\n",
       "      <td>2.0</td>\n",
       "      <td>1200.0</td>\n",
       "      <td>2.0</td>\n",
       "      <td>51.00</td>\n",
       "      <td>4250.000000</td>\n",
       "      <td>600.000000</td>\n",
       "    </tr>\n",
       "    <tr>\n",
       "      <th>...</th>\n",
       "      <td>...</td>\n",
       "      <td>...</td>\n",
       "      <td>...</td>\n",
       "      <td>...</td>\n",
       "      <td>...</td>\n",
       "      <td>...</td>\n",
       "      <td>...</td>\n",
       "    </tr>\n",
       "    <tr>\n",
       "      <th>13313</th>\n",
       "      <td>Uttarahalli</td>\n",
       "      <td>3.0</td>\n",
       "      <td>1345.0</td>\n",
       "      <td>2.0</td>\n",
       "      <td>57.00</td>\n",
       "      <td>4237.918216</td>\n",
       "      <td>448.333333</td>\n",
       "    </tr>\n",
       "    <tr>\n",
       "      <th>13314</th>\n",
       "      <td>Green Glen Layout</td>\n",
       "      <td>3.0</td>\n",
       "      <td>1715.0</td>\n",
       "      <td>3.0</td>\n",
       "      <td>112.00</td>\n",
       "      <td>6530.612245</td>\n",
       "      <td>571.666667</td>\n",
       "    </tr>\n",
       "    <tr>\n",
       "      <th>13315</th>\n",
       "      <td>Whitefield</td>\n",
       "      <td>5.0</td>\n",
       "      <td>3453.0</td>\n",
       "      <td>4.0</td>\n",
       "      <td>231.00</td>\n",
       "      <td>6689.834926</td>\n",
       "      <td>690.600000</td>\n",
       "    </tr>\n",
       "    <tr>\n",
       "      <th>13317</th>\n",
       "      <td>Raja Rajeshwari Nagar</td>\n",
       "      <td>2.0</td>\n",
       "      <td>1141.0</td>\n",
       "      <td>2.0</td>\n",
       "      <td>60.00</td>\n",
       "      <td>5258.545136</td>\n",
       "      <td>570.500000</td>\n",
       "    </tr>\n",
       "    <tr>\n",
       "      <th>13319</th>\n",
       "      <td>Doddathoguru</td>\n",
       "      <td>1.0</td>\n",
       "      <td>550.0</td>\n",
       "      <td>1.0</td>\n",
       "      <td>17.00</td>\n",
       "      <td>3090.909091</td>\n",
       "      <td>550.000000</td>\n",
       "    </tr>\n",
       "  </tbody>\n",
       "</table>\n",
       "<p>11805 rows × 7 columns</p>\n",
       "</div>"
      ],
      "text/plain": [
       "                       location  Bhk  total_sqft  bath   price  \\\n",
       "0      Electronic City Phase II  2.0      1056.0   2.0   39.07   \n",
       "1              Chikka Tirupathi  4.0      2600.0   5.0  120.00   \n",
       "2                   Uttarahalli  3.0      1440.0   2.0   62.00   \n",
       "3            Lingadheeranahalli  3.0      1521.0   3.0   95.00   \n",
       "4                      Kothanur  2.0      1200.0   2.0   51.00   \n",
       "...                         ...  ...         ...   ...     ...   \n",
       "13313               Uttarahalli  3.0      1345.0   2.0   57.00   \n",
       "13314         Green Glen Layout  3.0      1715.0   3.0  112.00   \n",
       "13315                Whitefield  5.0      3453.0   4.0  231.00   \n",
       "13317     Raja Rajeshwari Nagar  2.0      1141.0   2.0   60.00   \n",
       "13319              Doddathoguru  1.0       550.0   1.0   17.00   \n",
       "\n",
       "       Price_Per_Sqft  Size-Per-Bedroom  \n",
       "0         3699.810606        528.000000  \n",
       "1         4615.384615        650.000000  \n",
       "2         4305.555556        480.000000  \n",
       "3         6245.890861        507.000000  \n",
       "4         4250.000000        600.000000  \n",
       "...               ...               ...  \n",
       "13313     4237.918216        448.333333  \n",
       "13314     6530.612245        571.666667  \n",
       "13315     6689.834926        690.600000  \n",
       "13317     5258.545136        570.500000  \n",
       "13319     3090.909091        550.000000  \n",
       "\n",
       "[11805 rows x 7 columns]"
      ]
     },
     "execution_count": 187,
     "metadata": {},
     "output_type": "execute_result"
    }
   ],
   "source": [
    "df"
   ]
  },
  {
   "cell_type": "code",
   "execution_count": 202,
   "id": "814577b5",
   "metadata": {},
   "outputs": [],
   "source": [
    "def getIndexforOutliers(df):\n",
    "    l = []\n",
    "    for key,subdf in df.groupby('location'):\n",
    "        m = np.mean(subdf.Price_Per_Sqft)\n",
    "        st = np.std(subdf.Price_Per_Sqft)\n",
    "        \n",
    "        l.append(subdf[( (subdf['Price_Per_Sqft']<(m-st)) | (subdf['Price_Per_Sqft']>(m+st)) )].index.to_list())\n",
    "    return l"
   ]
  },
  {
   "cell_type": "code",
   "execution_count": 204,
   "id": "2b776e6e",
   "metadata": {},
   "outputs": [],
   "source": [
    "indexes = getIndexforOutliers(df)"
   ]
  },
  {
   "cell_type": "code",
   "execution_count": 206,
   "id": "e02b11f1",
   "metadata": {},
   "outputs": [],
   "source": [
    "l = []\n",
    "for i in indexes:\n",
    "    if(type(i)==int) :\n",
    "        l.append(i)\n",
    "    else :\n",
    "        for j in i:\n",
    "            l.append(j)\n",
    "        \n"
   ]
  },
  {
   "cell_type": "code",
   "execution_count": 208,
   "id": "c5e502ff",
   "metadata": {},
   "outputs": [],
   "source": [
    "indexes = l"
   ]
  },
  {
   "cell_type": "code",
   "execution_count": 209,
   "id": "5a0c0384",
   "metadata": {},
   "outputs": [
    {
     "data": {
      "text/plain": [
       "2136"
      ]
     },
     "execution_count": 209,
     "metadata": {},
     "output_type": "execute_result"
    }
   ],
   "source": [
    "len(indexes)"
   ]
  },
  {
   "cell_type": "code",
   "execution_count": 211,
   "id": "3491c591",
   "metadata": {},
   "outputs": [
    {
     "name": "stderr",
     "output_type": "stream",
     "text": [
      "C:\\Users\\itCare\\AppData\\Local\\Temp\\ipykernel_5400\\1761089882.py:1: SettingWithCopyWarning: \n",
      "A value is trying to be set on a copy of a slice from a DataFrame\n",
      "\n",
      "See the caveats in the documentation: https://pandas.pydata.org/pandas-docs/stable/user_guide/indexing.html#returning-a-view-versus-a-copy\n",
      "  df.drop(index=indexes,inplace=True)\n"
     ]
    }
   ],
   "source": [
    "df.drop(index=indexes,inplace=True)"
   ]
  },
  {
   "cell_type": "code",
   "execution_count": 214,
   "id": "330d49d5",
   "metadata": {},
   "outputs": [
    {
     "name": "stderr",
     "output_type": "stream",
     "text": [
      "C:\\Users\\itCare\\AppData\\Local\\Temp\\ipykernel_5400\\4079670592.py:1: SettingWithCopyWarning: \n",
      "A value is trying to be set on a copy of a slice from a DataFrame\n",
      "\n",
      "See the caveats in the documentation: https://pandas.pydata.org/pandas-docs/stable/user_guide/indexing.html#returning-a-view-versus-a-copy\n",
      "  df.drop(['Price_Per_Sqft','Size-Per-Bedroom'],axis='columns',inplace=True)\n"
     ]
    }
   ],
   "source": [
    "df.drop(['Price_Per_Sqft','Size-Per-Bedroom'],axis='columns',inplace=True)"
   ]
  },
  {
   "cell_type": "code",
   "execution_count": 215,
   "id": "927ac15b",
   "metadata": {},
   "outputs": [
    {
     "data": {
      "text/html": [
       "<div>\n",
       "<style scoped>\n",
       "    .dataframe tbody tr th:only-of-type {\n",
       "        vertical-align: middle;\n",
       "    }\n",
       "\n",
       "    .dataframe tbody tr th {\n",
       "        vertical-align: top;\n",
       "    }\n",
       "\n",
       "    .dataframe thead th {\n",
       "        text-align: right;\n",
       "    }\n",
       "</style>\n",
       "<table border=\"1\" class=\"dataframe\">\n",
       "  <thead>\n",
       "    <tr style=\"text-align: right;\">\n",
       "      <th></th>\n",
       "      <th>location</th>\n",
       "      <th>Bhk</th>\n",
       "      <th>total_sqft</th>\n",
       "      <th>bath</th>\n",
       "      <th>price</th>\n",
       "    </tr>\n",
       "  </thead>\n",
       "  <tbody>\n",
       "    <tr>\n",
       "      <th>0</th>\n",
       "      <td>Electronic City Phase II</td>\n",
       "      <td>2.0</td>\n",
       "      <td>1056.0</td>\n",
       "      <td>2.0</td>\n",
       "      <td>39.07</td>\n",
       "    </tr>\n",
       "    <tr>\n",
       "      <th>1</th>\n",
       "      <td>Chikka Tirupathi</td>\n",
       "      <td>4.0</td>\n",
       "      <td>2600.0</td>\n",
       "      <td>5.0</td>\n",
       "      <td>120.00</td>\n",
       "    </tr>\n",
       "    <tr>\n",
       "      <th>2</th>\n",
       "      <td>Uttarahalli</td>\n",
       "      <td>3.0</td>\n",
       "      <td>1440.0</td>\n",
       "      <td>2.0</td>\n",
       "      <td>62.00</td>\n",
       "    </tr>\n",
       "    <tr>\n",
       "      <th>3</th>\n",
       "      <td>Lingadheeranahalli</td>\n",
       "      <td>3.0</td>\n",
       "      <td>1521.0</td>\n",
       "      <td>3.0</td>\n",
       "      <td>95.00</td>\n",
       "    </tr>\n",
       "    <tr>\n",
       "      <th>4</th>\n",
       "      <td>Kothanur</td>\n",
       "      <td>2.0</td>\n",
       "      <td>1200.0</td>\n",
       "      <td>2.0</td>\n",
       "      <td>51.00</td>\n",
       "    </tr>\n",
       "    <tr>\n",
       "      <th>...</th>\n",
       "      <td>...</td>\n",
       "      <td>...</td>\n",
       "      <td>...</td>\n",
       "      <td>...</td>\n",
       "      <td>...</td>\n",
       "    </tr>\n",
       "    <tr>\n",
       "      <th>13313</th>\n",
       "      <td>Uttarahalli</td>\n",
       "      <td>3.0</td>\n",
       "      <td>1345.0</td>\n",
       "      <td>2.0</td>\n",
       "      <td>57.00</td>\n",
       "    </tr>\n",
       "    <tr>\n",
       "      <th>13314</th>\n",
       "      <td>Green Glen Layout</td>\n",
       "      <td>3.0</td>\n",
       "      <td>1715.0</td>\n",
       "      <td>3.0</td>\n",
       "      <td>112.00</td>\n",
       "    </tr>\n",
       "    <tr>\n",
       "      <th>13315</th>\n",
       "      <td>Whitefield</td>\n",
       "      <td>5.0</td>\n",
       "      <td>3453.0</td>\n",
       "      <td>4.0</td>\n",
       "      <td>231.00</td>\n",
       "    </tr>\n",
       "    <tr>\n",
       "      <th>13317</th>\n",
       "      <td>Raja Rajeshwari Nagar</td>\n",
       "      <td>2.0</td>\n",
       "      <td>1141.0</td>\n",
       "      <td>2.0</td>\n",
       "      <td>60.00</td>\n",
       "    </tr>\n",
       "    <tr>\n",
       "      <th>13319</th>\n",
       "      <td>Doddathoguru</td>\n",
       "      <td>1.0</td>\n",
       "      <td>550.0</td>\n",
       "      <td>1.0</td>\n",
       "      <td>17.00</td>\n",
       "    </tr>\n",
       "  </tbody>\n",
       "</table>\n",
       "<p>9669 rows × 5 columns</p>\n",
       "</div>"
      ],
      "text/plain": [
       "                       location  Bhk  total_sqft  bath   price\n",
       "0      Electronic City Phase II  2.0      1056.0   2.0   39.07\n",
       "1              Chikka Tirupathi  4.0      2600.0   5.0  120.00\n",
       "2                   Uttarahalli  3.0      1440.0   2.0   62.00\n",
       "3            Lingadheeranahalli  3.0      1521.0   3.0   95.00\n",
       "4                      Kothanur  2.0      1200.0   2.0   51.00\n",
       "...                         ...  ...         ...   ...     ...\n",
       "13313               Uttarahalli  3.0      1345.0   2.0   57.00\n",
       "13314         Green Glen Layout  3.0      1715.0   3.0  112.00\n",
       "13315                Whitefield  5.0      3453.0   4.0  231.00\n",
       "13317     Raja Rajeshwari Nagar  2.0      1141.0   2.0   60.00\n",
       "13319              Doddathoguru  1.0       550.0   1.0   17.00\n",
       "\n",
       "[9669 rows x 5 columns]"
      ]
     },
     "execution_count": 215,
     "metadata": {},
     "output_type": "execute_result"
    }
   ],
   "source": [
    "df"
   ]
  },
  {
   "cell_type": "code",
   "execution_count": 216,
   "id": "ff8a2af5",
   "metadata": {},
   "outputs": [],
   "source": [
    "df1 = pd.get_dummies(df.location,drop_first=True).astype('int')"
   ]
  },
  {
   "cell_type": "code",
   "execution_count": 217,
   "id": "a5f1bbf8",
   "metadata": {},
   "outputs": [],
   "source": [
    "df_final = pd.concat([df.iloc[:,1:4],df1,df.iloc[:,4]],axis=1)"
   ]
  },
  {
   "cell_type": "code",
   "execution_count": 218,
   "id": "502816c8",
   "metadata": {},
   "outputs": [
    {
     "data": {
      "text/html": [
       "<div>\n",
       "<style scoped>\n",
       "    .dataframe tbody tr th:only-of-type {\n",
       "        vertical-align: middle;\n",
       "    }\n",
       "\n",
       "    .dataframe tbody tr th {\n",
       "        vertical-align: top;\n",
       "    }\n",
       "\n",
       "    .dataframe thead th {\n",
       "        text-align: right;\n",
       "    }\n",
       "</style>\n",
       "<table border=\"1\" class=\"dataframe\">\n",
       "  <thead>\n",
       "    <tr style=\"text-align: right;\">\n",
       "      <th></th>\n",
       "      <th>Bhk</th>\n",
       "      <th>total_sqft</th>\n",
       "      <th>bath</th>\n",
       "      <th>1st Block Jayanagar</th>\n",
       "      <th>1st Phase JP Nagar</th>\n",
       "      <th>2nd Phase Judicial Layout</th>\n",
       "      <th>2nd Stage Nagarbhavi</th>\n",
       "      <th>5th Block Hbr Layout</th>\n",
       "      <th>5th Phase JP Nagar</th>\n",
       "      <th>6th Phase JP Nagar</th>\n",
       "      <th>...</th>\n",
       "      <th>Vishveshwarya Layout</th>\n",
       "      <th>Vishwapriya Layout</th>\n",
       "      <th>Vittasandra</th>\n",
       "      <th>Whitefield</th>\n",
       "      <th>Yelachenahalli</th>\n",
       "      <th>Yelahanka</th>\n",
       "      <th>Yelahanka New Town</th>\n",
       "      <th>Yelenahalli</th>\n",
       "      <th>Yeshwanthpur</th>\n",
       "      <th>price</th>\n",
       "    </tr>\n",
       "  </thead>\n",
       "  <tbody>\n",
       "    <tr>\n",
       "      <th>0</th>\n",
       "      <td>2.0</td>\n",
       "      <td>1056.0</td>\n",
       "      <td>2.0</td>\n",
       "      <td>0</td>\n",
       "      <td>0</td>\n",
       "      <td>0</td>\n",
       "      <td>0</td>\n",
       "      <td>0</td>\n",
       "      <td>0</td>\n",
       "      <td>0</td>\n",
       "      <td>...</td>\n",
       "      <td>0</td>\n",
       "      <td>0</td>\n",
       "      <td>0</td>\n",
       "      <td>0</td>\n",
       "      <td>0</td>\n",
       "      <td>0</td>\n",
       "      <td>0</td>\n",
       "      <td>0</td>\n",
       "      <td>0</td>\n",
       "      <td>39.07</td>\n",
       "    </tr>\n",
       "    <tr>\n",
       "      <th>1</th>\n",
       "      <td>4.0</td>\n",
       "      <td>2600.0</td>\n",
       "      <td>5.0</td>\n",
       "      <td>0</td>\n",
       "      <td>0</td>\n",
       "      <td>0</td>\n",
       "      <td>0</td>\n",
       "      <td>0</td>\n",
       "      <td>0</td>\n",
       "      <td>0</td>\n",
       "      <td>...</td>\n",
       "      <td>0</td>\n",
       "      <td>0</td>\n",
       "      <td>0</td>\n",
       "      <td>0</td>\n",
       "      <td>0</td>\n",
       "      <td>0</td>\n",
       "      <td>0</td>\n",
       "      <td>0</td>\n",
       "      <td>0</td>\n",
       "      <td>120.00</td>\n",
       "    </tr>\n",
       "    <tr>\n",
       "      <th>2</th>\n",
       "      <td>3.0</td>\n",
       "      <td>1440.0</td>\n",
       "      <td>2.0</td>\n",
       "      <td>0</td>\n",
       "      <td>0</td>\n",
       "      <td>0</td>\n",
       "      <td>0</td>\n",
       "      <td>0</td>\n",
       "      <td>0</td>\n",
       "      <td>0</td>\n",
       "      <td>...</td>\n",
       "      <td>0</td>\n",
       "      <td>0</td>\n",
       "      <td>0</td>\n",
       "      <td>0</td>\n",
       "      <td>0</td>\n",
       "      <td>0</td>\n",
       "      <td>0</td>\n",
       "      <td>0</td>\n",
       "      <td>0</td>\n",
       "      <td>62.00</td>\n",
       "    </tr>\n",
       "    <tr>\n",
       "      <th>3</th>\n",
       "      <td>3.0</td>\n",
       "      <td>1521.0</td>\n",
       "      <td>3.0</td>\n",
       "      <td>0</td>\n",
       "      <td>0</td>\n",
       "      <td>0</td>\n",
       "      <td>0</td>\n",
       "      <td>0</td>\n",
       "      <td>0</td>\n",
       "      <td>0</td>\n",
       "      <td>...</td>\n",
       "      <td>0</td>\n",
       "      <td>0</td>\n",
       "      <td>0</td>\n",
       "      <td>0</td>\n",
       "      <td>0</td>\n",
       "      <td>0</td>\n",
       "      <td>0</td>\n",
       "      <td>0</td>\n",
       "      <td>0</td>\n",
       "      <td>95.00</td>\n",
       "    </tr>\n",
       "    <tr>\n",
       "      <th>4</th>\n",
       "      <td>2.0</td>\n",
       "      <td>1200.0</td>\n",
       "      <td>2.0</td>\n",
       "      <td>0</td>\n",
       "      <td>0</td>\n",
       "      <td>0</td>\n",
       "      <td>0</td>\n",
       "      <td>0</td>\n",
       "      <td>0</td>\n",
       "      <td>0</td>\n",
       "      <td>...</td>\n",
       "      <td>0</td>\n",
       "      <td>0</td>\n",
       "      <td>0</td>\n",
       "      <td>0</td>\n",
       "      <td>0</td>\n",
       "      <td>0</td>\n",
       "      <td>0</td>\n",
       "      <td>0</td>\n",
       "      <td>0</td>\n",
       "      <td>51.00</td>\n",
       "    </tr>\n",
       "    <tr>\n",
       "      <th>...</th>\n",
       "      <td>...</td>\n",
       "      <td>...</td>\n",
       "      <td>...</td>\n",
       "      <td>...</td>\n",
       "      <td>...</td>\n",
       "      <td>...</td>\n",
       "      <td>...</td>\n",
       "      <td>...</td>\n",
       "      <td>...</td>\n",
       "      <td>...</td>\n",
       "      <td>...</td>\n",
       "      <td>...</td>\n",
       "      <td>...</td>\n",
       "      <td>...</td>\n",
       "      <td>...</td>\n",
       "      <td>...</td>\n",
       "      <td>...</td>\n",
       "      <td>...</td>\n",
       "      <td>...</td>\n",
       "      <td>...</td>\n",
       "      <td>...</td>\n",
       "    </tr>\n",
       "    <tr>\n",
       "      <th>13313</th>\n",
       "      <td>3.0</td>\n",
       "      <td>1345.0</td>\n",
       "      <td>2.0</td>\n",
       "      <td>0</td>\n",
       "      <td>0</td>\n",
       "      <td>0</td>\n",
       "      <td>0</td>\n",
       "      <td>0</td>\n",
       "      <td>0</td>\n",
       "      <td>0</td>\n",
       "      <td>...</td>\n",
       "      <td>0</td>\n",
       "      <td>0</td>\n",
       "      <td>0</td>\n",
       "      <td>0</td>\n",
       "      <td>0</td>\n",
       "      <td>0</td>\n",
       "      <td>0</td>\n",
       "      <td>0</td>\n",
       "      <td>0</td>\n",
       "      <td>57.00</td>\n",
       "    </tr>\n",
       "    <tr>\n",
       "      <th>13314</th>\n",
       "      <td>3.0</td>\n",
       "      <td>1715.0</td>\n",
       "      <td>3.0</td>\n",
       "      <td>0</td>\n",
       "      <td>0</td>\n",
       "      <td>0</td>\n",
       "      <td>0</td>\n",
       "      <td>0</td>\n",
       "      <td>0</td>\n",
       "      <td>0</td>\n",
       "      <td>...</td>\n",
       "      <td>0</td>\n",
       "      <td>0</td>\n",
       "      <td>0</td>\n",
       "      <td>0</td>\n",
       "      <td>0</td>\n",
       "      <td>0</td>\n",
       "      <td>0</td>\n",
       "      <td>0</td>\n",
       "      <td>0</td>\n",
       "      <td>112.00</td>\n",
       "    </tr>\n",
       "    <tr>\n",
       "      <th>13315</th>\n",
       "      <td>5.0</td>\n",
       "      <td>3453.0</td>\n",
       "      <td>4.0</td>\n",
       "      <td>0</td>\n",
       "      <td>0</td>\n",
       "      <td>0</td>\n",
       "      <td>0</td>\n",
       "      <td>0</td>\n",
       "      <td>0</td>\n",
       "      <td>0</td>\n",
       "      <td>...</td>\n",
       "      <td>0</td>\n",
       "      <td>0</td>\n",
       "      <td>0</td>\n",
       "      <td>1</td>\n",
       "      <td>0</td>\n",
       "      <td>0</td>\n",
       "      <td>0</td>\n",
       "      <td>0</td>\n",
       "      <td>0</td>\n",
       "      <td>231.00</td>\n",
       "    </tr>\n",
       "    <tr>\n",
       "      <th>13317</th>\n",
       "      <td>2.0</td>\n",
       "      <td>1141.0</td>\n",
       "      <td>2.0</td>\n",
       "      <td>0</td>\n",
       "      <td>0</td>\n",
       "      <td>0</td>\n",
       "      <td>0</td>\n",
       "      <td>0</td>\n",
       "      <td>0</td>\n",
       "      <td>0</td>\n",
       "      <td>...</td>\n",
       "      <td>0</td>\n",
       "      <td>0</td>\n",
       "      <td>0</td>\n",
       "      <td>0</td>\n",
       "      <td>0</td>\n",
       "      <td>0</td>\n",
       "      <td>0</td>\n",
       "      <td>0</td>\n",
       "      <td>0</td>\n",
       "      <td>60.00</td>\n",
       "    </tr>\n",
       "    <tr>\n",
       "      <th>13319</th>\n",
       "      <td>1.0</td>\n",
       "      <td>550.0</td>\n",
       "      <td>1.0</td>\n",
       "      <td>0</td>\n",
       "      <td>0</td>\n",
       "      <td>0</td>\n",
       "      <td>0</td>\n",
       "      <td>0</td>\n",
       "      <td>0</td>\n",
       "      <td>0</td>\n",
       "      <td>...</td>\n",
       "      <td>0</td>\n",
       "      <td>0</td>\n",
       "      <td>0</td>\n",
       "      <td>0</td>\n",
       "      <td>0</td>\n",
       "      <td>0</td>\n",
       "      <td>0</td>\n",
       "      <td>0</td>\n",
       "      <td>0</td>\n",
       "      <td>17.00</td>\n",
       "    </tr>\n",
       "  </tbody>\n",
       "</table>\n",
       "<p>9669 rows × 245 columns</p>\n",
       "</div>"
      ],
      "text/plain": [
       "       Bhk  total_sqft  bath  1st Block Jayanagar  1st Phase JP Nagar  \\\n",
       "0      2.0      1056.0   2.0                    0                   0   \n",
       "1      4.0      2600.0   5.0                    0                   0   \n",
       "2      3.0      1440.0   2.0                    0                   0   \n",
       "3      3.0      1521.0   3.0                    0                   0   \n",
       "4      2.0      1200.0   2.0                    0                   0   \n",
       "...    ...         ...   ...                  ...                 ...   \n",
       "13313  3.0      1345.0   2.0                    0                   0   \n",
       "13314  3.0      1715.0   3.0                    0                   0   \n",
       "13315  5.0      3453.0   4.0                    0                   0   \n",
       "13317  2.0      1141.0   2.0                    0                   0   \n",
       "13319  1.0       550.0   1.0                    0                   0   \n",
       "\n",
       "       2nd Phase Judicial Layout  2nd Stage Nagarbhavi  5th Block Hbr Layout  \\\n",
       "0                              0                     0                     0   \n",
       "1                              0                     0                     0   \n",
       "2                              0                     0                     0   \n",
       "3                              0                     0                     0   \n",
       "4                              0                     0                     0   \n",
       "...                          ...                   ...                   ...   \n",
       "13313                          0                     0                     0   \n",
       "13314                          0                     0                     0   \n",
       "13315                          0                     0                     0   \n",
       "13317                          0                     0                     0   \n",
       "13319                          0                     0                     0   \n",
       "\n",
       "       5th Phase JP Nagar  6th Phase JP Nagar  ...  Vishveshwarya Layout  \\\n",
       "0                       0                   0  ...                     0   \n",
       "1                       0                   0  ...                     0   \n",
       "2                       0                   0  ...                     0   \n",
       "3                       0                   0  ...                     0   \n",
       "4                       0                   0  ...                     0   \n",
       "...                   ...                 ...  ...                   ...   \n",
       "13313                   0                   0  ...                     0   \n",
       "13314                   0                   0  ...                     0   \n",
       "13315                   0                   0  ...                     0   \n",
       "13317                   0                   0  ...                     0   \n",
       "13319                   0                   0  ...                     0   \n",
       "\n",
       "       Vishwapriya Layout  Vittasandra  Whitefield  Yelachenahalli  Yelahanka  \\\n",
       "0                       0            0           0               0          0   \n",
       "1                       0            0           0               0          0   \n",
       "2                       0            0           0               0          0   \n",
       "3                       0            0           0               0          0   \n",
       "4                       0            0           0               0          0   \n",
       "...                   ...          ...         ...             ...        ...   \n",
       "13313                   0            0           0               0          0   \n",
       "13314                   0            0           0               0          0   \n",
       "13315                   0            0           1               0          0   \n",
       "13317                   0            0           0               0          0   \n",
       "13319                   0            0           0               0          0   \n",
       "\n",
       "       Yelahanka New Town  Yelenahalli  Yeshwanthpur   price  \n",
       "0                       0            0             0   39.07  \n",
       "1                       0            0             0  120.00  \n",
       "2                       0            0             0   62.00  \n",
       "3                       0            0             0   95.00  \n",
       "4                       0            0             0   51.00  \n",
       "...                   ...          ...           ...     ...  \n",
       "13313                   0            0             0   57.00  \n",
       "13314                   0            0             0  112.00  \n",
       "13315                   0            0             0  231.00  \n",
       "13317                   0            0             0   60.00  \n",
       "13319                   0            0             0   17.00  \n",
       "\n",
       "[9669 rows x 245 columns]"
      ]
     },
     "execution_count": 218,
     "metadata": {},
     "output_type": "execute_result"
    }
   ],
   "source": [
    "df_final"
   ]
  },
  {
   "cell_type": "code",
   "execution_count": 219,
   "id": "dbbac80a",
   "metadata": {},
   "outputs": [
    {
     "data": {
      "text/plain": [
       "Bhk                     0\n",
       "total_sqft              0\n",
       "bath                   44\n",
       "1st Block Jayanagar     0\n",
       "1st Phase JP Nagar      0\n",
       "                       ..\n",
       "Yelahanka               0\n",
       "Yelahanka New Town      0\n",
       "Yelenahalli             0\n",
       "Yeshwanthpur            0\n",
       "price                   0\n",
       "Length: 245, dtype: int64"
      ]
     },
     "execution_count": 219,
     "metadata": {},
     "output_type": "execute_result"
    }
   ],
   "source": [
    "df_final.isna().sum()"
   ]
  },
  {
   "cell_type": "code",
   "execution_count": 220,
   "id": "f483a336",
   "metadata": {},
   "outputs": [
    {
     "data": {
      "text/plain": [
       "Index([], dtype='int64')"
      ]
     },
     "execution_count": 220,
     "metadata": {},
     "output_type": "execute_result"
    }
   ],
   "source": [
    "df_final[df_final['Bhk'].isna()].index"
   ]
  },
  {
   "cell_type": "code",
   "execution_count": 221,
   "id": "b92327d5",
   "metadata": {},
   "outputs": [],
   "source": [
    "df_final.drop(index=df_final[df_final['Bhk'].isna()].index,inplace=True)"
   ]
  },
  {
   "cell_type": "code",
   "execution_count": 222,
   "id": "8699a6a5",
   "metadata": {},
   "outputs": [
    {
     "data": {
      "text/plain": [
       "[Bhk                     0\n",
       " total_sqft              0\n",
       " bath                   44\n",
       " 1st Block Jayanagar     0\n",
       " 1st Phase JP Nagar      0\n",
       "                        ..\n",
       " Yelahanka               0\n",
       " Yelahanka New Town      0\n",
       " Yelenahalli             0\n",
       " Yeshwanthpur            0\n",
       " price                   0\n",
       " Length: 245, dtype: int64]"
      ]
     },
     "execution_count": 222,
     "metadata": {},
     "output_type": "execute_result"
    }
   ],
   "source": [
    "[df_final.isna().sum()]"
   ]
  },
  {
   "cell_type": "code",
   "execution_count": 223,
   "id": "5820f806",
   "metadata": {},
   "outputs": [
    {
     "data": {
      "text/plain": [
       "Index([   56,    81,   224,   344,  1267,  1686,  1724,  1765,  1852,  2563,\n",
       "        2944,  2998,  3370,  3544,  3598,  4210,  4346,  4843,  4995,  5464,\n",
       "        5498,  5747,  6256,  6343,  6481,  6873,  6971,  7623,  7921,  8020,\n",
       "        8056,  8275,  8289,  8472,  8783,  9129,  9699, 10330, 10553, 10726,\n",
       "       11297, 11496, 12768, 12861],\n",
       "      dtype='int64')"
      ]
     },
     "execution_count": 223,
     "metadata": {},
     "output_type": "execute_result"
    }
   ],
   "source": [
    "df_final[df_final['bath'].isna()].index"
   ]
  },
  {
   "cell_type": "code",
   "execution_count": 224,
   "id": "b0bf91af",
   "metadata": {},
   "outputs": [],
   "source": [
    "df_final.drop(index=df_final[df_final['bath'].isna()].index,inplace=True)"
   ]
  },
  {
   "cell_type": "code",
   "execution_count": null,
   "id": "1470781d",
   "metadata": {},
   "outputs": [],
   "source": []
  },
  {
   "cell_type": "code",
   "execution_count": 225,
   "id": "42d5284b",
   "metadata": {},
   "outputs": [
    {
     "data": {
      "text/plain": [
       "Bhk                    0\n",
       "total_sqft             0\n",
       "bath                   0\n",
       "1st Block Jayanagar    0\n",
       "1st Phase JP Nagar     0\n",
       "                      ..\n",
       "Yelahanka              0\n",
       "Yelahanka New Town     0\n",
       "Yelenahalli            0\n",
       "Yeshwanthpur           0\n",
       "price                  0\n",
       "Length: 245, dtype: int64"
      ]
     },
     "execution_count": 225,
     "metadata": {},
     "output_type": "execute_result"
    }
   ],
   "source": [
    "df_final.isna().sum()"
   ]
  },
  {
   "cell_type": "code",
   "execution_count": 226,
   "id": "7287a47d",
   "metadata": {},
   "outputs": [],
   "source": [
    "df_final.to_csv('Checking.csv')"
   ]
  }
 ],
 "metadata": {
  "kernelspec": {
   "display_name": "Python 3 (ipykernel)",
   "language": "python",
   "name": "python3"
  },
  "language_info": {
   "codemirror_mode": {
    "name": "ipython",
    "version": 3
   },
   "file_extension": ".py",
   "mimetype": "text/x-python",
   "name": "python",
   "nbconvert_exporter": "python",
   "pygments_lexer": "ipython3",
   "version": "3.11.5"
  }
 },
 "nbformat": 4,
 "nbformat_minor": 5
}
